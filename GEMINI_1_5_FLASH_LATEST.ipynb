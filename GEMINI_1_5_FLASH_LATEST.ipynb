{
  "nbformat": 4,
  "nbformat_minor": 0,
  "metadata": {
    "colab": {
      "provenance": []
    },
    "kernelspec": {
      "name": "python3",
      "display_name": "Python 3"
    },
    "language_info": {
      "name": "python"
    }
  },
  "cells": [
    {
      "cell_type": "code",
      "source": [
        "!pip install langchain-community"
      ],
      "metadata": {
        "colab": {
          "base_uri": "https://localhost:8080/"
        },
        "collapsed": true,
        "id": "q_sIJf7Mv1iW",
        "outputId": "b96f1060-5407-4c2f-e44c-c36f6473f303"
      },
      "execution_count": null,
      "outputs": [
        {
          "output_type": "stream",
          "name": "stdout",
          "text": [
            "Requirement already satisfied: langchain-community in /usr/local/lib/python3.10/dist-packages (0.3.7)\n",
            "Requirement already satisfied: PyYAML>=5.3 in /usr/local/lib/python3.10/dist-packages (from langchain-community) (6.0.2)\n",
            "Requirement already satisfied: SQLAlchemy<2.0.36,>=1.4 in /usr/local/lib/python3.10/dist-packages (from langchain-community) (2.0.35)\n",
            "Requirement already satisfied: aiohttp<4.0.0,>=3.8.3 in /usr/local/lib/python3.10/dist-packages (from langchain-community) (3.11.1)\n",
            "Requirement already satisfied: dataclasses-json<0.7,>=0.5.7 in /usr/local/lib/python3.10/dist-packages (from langchain-community) (0.6.7)\n",
            "Requirement already satisfied: httpx-sse<0.5.0,>=0.4.0 in /usr/local/lib/python3.10/dist-packages (from langchain-community) (0.4.0)\n",
            "Requirement already satisfied: langchain<0.4.0,>=0.3.7 in /usr/local/lib/python3.10/dist-packages (from langchain-community) (0.3.7)\n",
            "Requirement already satisfied: langchain-core<0.4.0,>=0.3.17 in /usr/local/lib/python3.10/dist-packages (from langchain-community) (0.3.18)\n",
            "Requirement already satisfied: langsmith<0.2.0,>=0.1.125 in /usr/local/lib/python3.10/dist-packages (from langchain-community) (0.1.143)\n",
            "Requirement already satisfied: numpy<2,>=1 in /usr/local/lib/python3.10/dist-packages (from langchain-community) (1.26.4)\n",
            "Requirement already satisfied: pydantic-settings<3.0.0,>=2.4.0 in /usr/local/lib/python3.10/dist-packages (from langchain-community) (2.6.1)\n",
            "Requirement already satisfied: requests<3,>=2 in /usr/local/lib/python3.10/dist-packages (from langchain-community) (2.32.3)\n",
            "Requirement already satisfied: tenacity!=8.4.0,<10,>=8.1.0 in /usr/local/lib/python3.10/dist-packages (from langchain-community) (9.0.0)\n",
            "Requirement already satisfied: aiohappyeyeballs>=2.3.0 in /usr/local/lib/python3.10/dist-packages (from aiohttp<4.0.0,>=3.8.3->langchain-community) (2.4.3)\n",
            "Requirement already satisfied: aiosignal>=1.1.2 in /usr/local/lib/python3.10/dist-packages (from aiohttp<4.0.0,>=3.8.3->langchain-community) (1.3.1)\n",
            "Requirement already satisfied: attrs>=17.3.0 in /usr/local/lib/python3.10/dist-packages (from aiohttp<4.0.0,>=3.8.3->langchain-community) (24.2.0)\n",
            "Requirement already satisfied: frozenlist>=1.1.1 in /usr/local/lib/python3.10/dist-packages (from aiohttp<4.0.0,>=3.8.3->langchain-community) (1.5.0)\n",
            "Requirement already satisfied: multidict<7.0,>=4.5 in /usr/local/lib/python3.10/dist-packages (from aiohttp<4.0.0,>=3.8.3->langchain-community) (6.1.0)\n",
            "Requirement already satisfied: propcache>=0.2.0 in /usr/local/lib/python3.10/dist-packages (from aiohttp<4.0.0,>=3.8.3->langchain-community) (0.2.0)\n",
            "Requirement already satisfied: yarl<2.0,>=1.17.0 in /usr/local/lib/python3.10/dist-packages (from aiohttp<4.0.0,>=3.8.3->langchain-community) (1.17.1)\n",
            "Requirement already satisfied: async-timeout<6.0,>=4.0 in /usr/local/lib/python3.10/dist-packages (from aiohttp<4.0.0,>=3.8.3->langchain-community) (4.0.3)\n",
            "Requirement already satisfied: marshmallow<4.0.0,>=3.18.0 in /usr/local/lib/python3.10/dist-packages (from dataclasses-json<0.7,>=0.5.7->langchain-community) (3.23.1)\n",
            "Requirement already satisfied: typing-inspect<1,>=0.4.0 in /usr/local/lib/python3.10/dist-packages (from dataclasses-json<0.7,>=0.5.7->langchain-community) (0.9.0)\n",
            "Requirement already satisfied: langchain-text-splitters<0.4.0,>=0.3.0 in /usr/local/lib/python3.10/dist-packages (from langchain<0.4.0,>=0.3.7->langchain-community) (0.3.2)\n",
            "Requirement already satisfied: pydantic<3.0.0,>=2.7.4 in /usr/local/lib/python3.10/dist-packages (from langchain<0.4.0,>=0.3.7->langchain-community) (2.9.2)\n",
            "Requirement already satisfied: jsonpatch<2.0,>=1.33 in /usr/local/lib/python3.10/dist-packages (from langchain-core<0.4.0,>=0.3.17->langchain-community) (1.33)\n",
            "Requirement already satisfied: packaging<25,>=23.2 in /usr/local/lib/python3.10/dist-packages (from langchain-core<0.4.0,>=0.3.17->langchain-community) (24.2)\n",
            "Requirement already satisfied: typing-extensions>=4.7 in /usr/local/lib/python3.10/dist-packages (from langchain-core<0.4.0,>=0.3.17->langchain-community) (4.12.2)\n",
            "Requirement already satisfied: httpx<1,>=0.23.0 in /usr/local/lib/python3.10/dist-packages (from langsmith<0.2.0,>=0.1.125->langchain-community) (0.27.2)\n",
            "Requirement already satisfied: orjson<4.0.0,>=3.9.14 in /usr/local/lib/python3.10/dist-packages (from langsmith<0.2.0,>=0.1.125->langchain-community) (3.10.11)\n",
            "Requirement already satisfied: requests-toolbelt<2.0.0,>=1.0.0 in /usr/local/lib/python3.10/dist-packages (from langsmith<0.2.0,>=0.1.125->langchain-community) (1.0.0)\n",
            "Requirement already satisfied: python-dotenv>=0.21.0 in /usr/local/lib/python3.10/dist-packages (from pydantic-settings<3.0.0,>=2.4.0->langchain-community) (1.0.1)\n",
            "Requirement already satisfied: charset-normalizer<4,>=2 in /usr/local/lib/python3.10/dist-packages (from requests<3,>=2->langchain-community) (3.4.0)\n",
            "Requirement already satisfied: idna<4,>=2.5 in /usr/local/lib/python3.10/dist-packages (from requests<3,>=2->langchain-community) (3.10)\n",
            "Requirement already satisfied: urllib3<3,>=1.21.1 in /usr/local/lib/python3.10/dist-packages (from requests<3,>=2->langchain-community) (2.2.3)\n",
            "Requirement already satisfied: certifi>=2017.4.17 in /usr/local/lib/python3.10/dist-packages (from requests<3,>=2->langchain-community) (2024.8.30)\n",
            "Requirement already satisfied: greenlet!=0.4.17 in /usr/local/lib/python3.10/dist-packages (from SQLAlchemy<2.0.36,>=1.4->langchain-community) (3.1.1)\n",
            "Requirement already satisfied: anyio in /usr/local/lib/python3.10/dist-packages (from httpx<1,>=0.23.0->langsmith<0.2.0,>=0.1.125->langchain-community) (3.7.1)\n",
            "Requirement already satisfied: httpcore==1.* in /usr/local/lib/python3.10/dist-packages (from httpx<1,>=0.23.0->langsmith<0.2.0,>=0.1.125->langchain-community) (1.0.6)\n",
            "Requirement already satisfied: sniffio in /usr/local/lib/python3.10/dist-packages (from httpx<1,>=0.23.0->langsmith<0.2.0,>=0.1.125->langchain-community) (1.3.1)\n",
            "Requirement already satisfied: h11<0.15,>=0.13 in /usr/local/lib/python3.10/dist-packages (from httpcore==1.*->httpx<1,>=0.23.0->langsmith<0.2.0,>=0.1.125->langchain-community) (0.14.0)\n",
            "Requirement already satisfied: jsonpointer>=1.9 in /usr/local/lib/python3.10/dist-packages (from jsonpatch<2.0,>=1.33->langchain-core<0.4.0,>=0.3.17->langchain-community) (3.0.0)\n",
            "Requirement already satisfied: annotated-types>=0.6.0 in /usr/local/lib/python3.10/dist-packages (from pydantic<3.0.0,>=2.7.4->langchain<0.4.0,>=0.3.7->langchain-community) (0.7.0)\n",
            "Requirement already satisfied: pydantic-core==2.23.4 in /usr/local/lib/python3.10/dist-packages (from pydantic<3.0.0,>=2.7.4->langchain<0.4.0,>=0.3.7->langchain-community) (2.23.4)\n",
            "Requirement already satisfied: mypy-extensions>=0.3.0 in /usr/local/lib/python3.10/dist-packages (from typing-inspect<1,>=0.4.0->dataclasses-json<0.7,>=0.5.7->langchain-community) (1.0.0)\n",
            "Requirement already satisfied: exceptiongroup in /usr/local/lib/python3.10/dist-packages (from anyio->httpx<1,>=0.23.0->langsmith<0.2.0,>=0.1.125->langchain-community) (1.2.2)\n"
          ]
        }
      ]
    },
    {
      "cell_type": "code",
      "source": [
        "!pip install pypdf\n",
        "from langchain.document_loaders import PyPDFLoader\n",
        "\n",
        "raw_text=PyPDFLoader(\"/content/DATA/paracetamol.pdf\")\n",
        "raw_text"
      ],
      "metadata": {
        "colab": {
          "base_uri": "https://localhost:8080/"
        },
        "id": "msUEZtwX0SvA",
        "outputId": "2b17ad6c-ec9a-4c4e-fc13-21faf1efff5e"
      },
      "execution_count": null,
      "outputs": [
        {
          "output_type": "stream",
          "name": "stdout",
          "text": [
            "Requirement already satisfied: pypdf in /usr/local/lib/python3.10/dist-packages (5.1.0)\n",
            "Requirement already satisfied: typing_extensions>=4.0 in /usr/local/lib/python3.10/dist-packages (from pypdf) (4.12.2)\n"
          ]
        },
        {
          "output_type": "execute_result",
          "data": {
            "text/plain": [
              "<langchain_community.document_loaders.pdf.PyPDFLoader at 0x7e344a9286a0>"
            ]
          },
          "metadata": {},
          "execution_count": 71
        }
      ]
    },
    {
      "cell_type": "code",
      "source": [
        "raw_file=raw_text.load()\n",
        "raw_file"
      ],
      "metadata": {
        "colab": {
          "base_uri": "https://localhost:8080/"
        },
        "collapsed": true,
        "id": "R7mgkhT20m4W",
        "outputId": "2000b1a6-05bc-40de-b2c5-00d116d605c1"
      },
      "execution_count": null,
      "outputs": [
        {
          "output_type": "execute_result",
          "data": {
            "text/plain": [
              "[Document(metadata={'source': '/content/DATA/paracetamol.pdf', 'page': 0}, page_content=' 1\\nPackage leaflet: Information for the user \\n \\nParacetamol 500 mg tablets \\nparacetamol  \\n \\n \\nRead all of this leaflet carefully before you start taking this  medicine because it contains \\nimportant information for you. \\nAlways take this medicine exactly as described in this leaflet or as your doctor or pharmacist told you. \\n- Keep this leaflet. You may need to read it again. \\n- Ask your pharmacist if you need more information or advice. \\n- If you get any side effects, talk to your doctor, or pharmacist . This includes any possible side \\neffects not listed in this leaflet. See section 4. \\nYou must talk to a doctor if you do not feel better or if you feel worse after 3 days of fever and 5 \\ndays of pain or if other symptoms appear.   \\n \\nWhat is in this leaflet  \\n1. What Paracetamol is and what it is used for \\n2. What you need to know before you take Paracetamol \\n3. How to take Paracetamol \\n4. Possible side effects \\n5. How to store Paracetamol \\n6. Contents of the pack and other information \\n \\n \\n1. What Paracetamol is and what it is used for \\n \\nParacetamol contains the active substance paracetamol which is a painkiller and also reduces your \\ntemperature when you have a fever. It is recommended for the short-term treatment of mild to moderate \\npain such as headache, toothache, muscle and joint pain and menstrual pain.  \\nIt also relieves fever associated with common colds and flu. \\n \\nYou must talk to a doctor if you do not feel better or if you feel worse after 3 days of fever and 5 days \\nof pain or if other symptoms appear.  \\n \\nParacetamol is indicated in adults and adolescents aged 12 or older. \\n \\n2. What you need to know before you take Paracetamol \\n \\nDo not take Paracetamol if: \\n- you are allergic to paracetamol or any of the other ingredients of this medicine (listed in section 6); \\n \\nWarnings and precautions \\nNever take more Paracetamol than what is stated in the dosing instructions. Higher doses than \\nrecommended will not lead to better pain relief, instead it increases the risk of very severe liver damage. \\nThe symptoms of liver damage usually appear after a few days. It is therefore important that you \\ncontact a doctor immediately if you have taken too high a dose, even if you are feeling fine. \\n \\nTalk to your doctor or pharmacist before taking Paracetamol.  \\n- if you have kidney problems   \\n- if you have liver problems   '),\n",
              " Document(metadata={'source': '/content/DATA/paracetamol.pdf', 'page': 1}, page_content=' 2\\n- if you have a hereditary disease called Gilbert’s syndrome  \\n- if you are taking other medicines affecting liver function  \\n- if you have Glucose-6-phosphate dehydrogenase deficiency (an enzyme deficiency)  \\n- if you have haemolytic anaemia (abnormal breakdown of red blood cells)  \\n- if you have glutathione deficiency  \\n- if you are dehydrated or if your doctor told you that you are suffering from chronic malnutrition \\n- if you weigh less than 50kg \\n- if you are elderly \\n- if you have alcohol problems or liver damage and also do not use Paracetamol with alcohol.  \\n- if you use other analgesics containing paracetamol you must not use Paracetamol  \\n- if you have been diagnosed with asthma and are also sensitive to acetylsalicylic acid (an anti-\\ninflammatory medicinal product) because there is a risk of bronchospasm \\n \\n- Talk to a doctor if the pain lasts more than 5 days or the temperature remains high or if these \\nsymptoms are accompanied by cough, headache, rash, nausea and vomiting. \\n \\nChildren and adolescents \\nParacetamol is not recommended for children under 12 years of age. Other formulations containing \\nparacetamol are available. \\n \\nOther medicines and Paracetamol \\nTell your doctor or pharmacist if you are taking, have recently taken or might take any other medicines: \\n \\n\\uf0b7 The concomitant use of Paracetamol might potentiate the effect of coumarin anticoagulants \\n(blood thinning medicine). \\n\\uf0b7 Cholestyramine (to lower cholesterol), reduces the absorption of Paracetamol. Metoclopramide \\nand domperidone (for nausea and vomiting) may increase the rate of absorption of Paracetamol. \\nHowever, concurrent use does not need to be avoided.  \\n\\uf0b7 The concomitant use of Paracetamol with phenothiazines may lead to hypothermia.  \\n\\uf0b7 Enzyme inductors, such as phenytoin, carbamazepine, phenobarbital, isoniazid, St Johns wort \\nmay increase the risk of hepatotoxicity. \\n\\uf0b7 Probenecid (a medicine for gout).  \\n\\uf0b7 Oral contraceptives and Rifampicin reduce the effects of Paracetamol. \\n \\nParacetamol with food, drink and alcohol  \\nParacetamol must not be taken together with alcohol due to a risk of an increase in the toxic effect of \\nparacetamol on the liver. \\n \\nPregnancy, breast-feeding and fertility  \\nIf you are pregnant or breast-feeding, think you may be pregnant or are planning to have a baby, ask \\nyour doctor for advice before taking this medicine. \\n \\nIf necessary, Paracetamol can be used during pregnancy. You should use the lowest possible dose that \\nreduces your pain and/or your fever and use it for the shortest time possible. Contact your doctor if the \\npain and/or fever are not reduced or if you need to take the medicine more often. \\n \\nYou can take this product whilst breastfeeding. \\n \\nDriving and using machines \\nParacetamol does not affect the ability to drive and use machines. '),\n",
              " Document(metadata={'source': '/content/DATA/paracetamol.pdf', 'page': 2}, page_content=' 3\\n \\nParacetamol contains sodium and wheat starch \\nThis medicine contains less than 1 mmol sodium (23 mg) per tablet, that is to say essentially ‘sodium-\\nfree’. \\nThis medicine contains only very low levels of gluten (from whe at starch) and is very unlikely to cause \\nproblems if you have coeliac disease. \\nOne tablet contains no more than 3 micrograms of gluten. If you  have wheat allergy (different form \\ncoeliac disease) you should not take this medicine. \\n \\n \\n3. How to take Paracetamol \\n \\nAlways take this medicine exactly as described in this leaflet or as your doctor or pharmacist has told \\nyou. Check with your doctor or pharmacist if you are not sure. \\n \\nParacetamol should be used at the lowest effective dose for the shortest possible time. Dose depends on \\nage and body weight, generally 10 to 15 mg/kg body weight as a single dose, up to a maximum of 60 \\nmg/kg body weight as the total daily dose, not exceeding 3000 mg.  \\n \\nDoses recommended as per the table below: \\n \\nAge Body weight Single dose Maximum \\ndaily dose \\nDosing interval \\n12 – 15 years 40 – 55  kg 500 mg (1 tablet) 2 - 3 g \\n(maximum of \\n4 - 6 tablets \\nper 24 hours) \\nat least \\n4 – 6 hours \\n> 15 years 40 – 55  kg 500 mg (1 tablet) 3 g (maximum \\nof 4 - 6 tablets \\nper 24 hours) \\nat least \\n4 – 6 hours \\n> 55 kg 500 – 1,000 mg (1-2 \\ntablets) \\n3 g \\n(maximum of \\n6 tablets per \\n24 hours) \\n \\nParacetamol is not recommended for children under 12 years of age. Other formulations containing \\nparacetamol are available.  \\n \\nThe length of the course of treatment without a consultation with a doctor must not exceed, for adults \\nand children 12 years and over, 3 days for fever and 5 days for pain. \\n \\nElderly \\nNormal adult dosage of paracetamol is usually appropriate. However, in frail, immobile elderly subjects \\nor in elderly patients with renal or hepatic impairment, or patients who have Gilbert’s syndrome, a \\nreduction in the amount or frequency of dosing may be appropriate. \\n \\nUse in kidney or liver impairment  \\nIf you have been diagnosed with kidney or liver problems, please consult your doctor or pharmacist. \\nYou may need to take a lower dose or increase the length of time between doses. \\n '),\n",
              " Document(metadata={'source': '/content/DATA/paracetamol.pdf', 'page': 3}, page_content=' 4\\nMethod of administration \\nSwallow the tablet with water.  \\nIf necessary, the tablet can be divided in two equal parts. Check with your doctor or pharmacist if you \\nare not sure about anything. \\n \\nIf you have taken more of Paracetamol than you should \\nIf you have used more Paracetamol than you should, immediate medical advice should be sought \\nbecause there is a risk of irreversible liver damage, even if you feel well. \\nTo prevent liver damage, it is important that your doctor can start treatment as soon as possible. The \\nsooner you receive treatment of an overdose the better are the chances to prevent damage to the liver.  \\nThese may not appear even in an overdose situation. \\n \\nIf you have any further questions on the use of this medicine, ask your doctor or pharmacist. \\n \\n \\n4. Possible side effects  \\n \\nLike all medicines, this medicine can cause side effects, although not everybody gets them. \\n \\nAgranulocytosis \\nStop taking Paracetamol and immediately contact a doctor if you experience one of the following \\nsymptoms (agranulocytosis): fever coupled with a severely deteriorated general state of health or a \\nfever in combination with sore throat/mouth or difficulty urinating, which are signs of infection. As \\nParacetamol can in rare cases lead to a deteriorated immune system due to a lack of white blood cells, \\ninfections can become serious. For this reason, it is also important that you inform health care personnel \\nabout your medication \\n \\nStevens-Johnson syndrome / TEN/AGEP \\nStop taking Paracetamol and immediately contact a doctor or go to the emergency department if you \\nexperience the following symptoms: Extremely intense and serious skin reactions, such as Stevens-\\nJohnson syndrome, toxic epidermal necrolysis and acute generalized exanthematous pustulosis (AGEP) \\nhave been reported during use of Paracetamol. \\nThe adverse reaction of the skin may appear as rashes with or without blisters. Skin irritation, sores or \\nswelling in the mouth, throat, eyes, nose and around the genitals (Stevens-Johnson syndrome) and fever \\nand flulike symptoms may occur. The skin rashes may develop into serious widespread skin damage \\n(peeling of the epidermis and superficial mucous membranes) with life-threatening consequences. \\nIf symptoms of AGEP appear, it usually occurs in conjunction with the start of treatment. \\n \\nAngioedema \\nStop using Paracetamol and immediately contact a doctor if you experience any of the following \\nsymptoms (angioedema): swelling of the face, tongue or throat; difficulty swallowing; hives and \\nbreathing difficulties. \\n \\nIn rare cases allergic reactions are observed – itching, rash, very rarely – changes in the blood count, \\ne.g. thrombocytopenia (decrease of the number of blood plates). \\n \\nRare (may affect up to 1 in 1000 users): \\n \\n- Angioedema, very severe allergic reaction (swelling of the face, tongue or throat, difficulty \\nswallowing, hives and difficulty breathing) '),\n",
              " Document(metadata={'source': '/content/DATA/paracetamol.pdf', 'page': 4}, page_content=' 5\\n- Allergic reactions such as skin rashes and hives. Even less severe forms of skin reactions, rashes \\nand itching may occur. \\n- Liver impact. This can be very serious and can produce symptoms such as fatigue, nausea, \\nvomiting, stomach upset and loss of appetite. \\n \\nVery rare (may affect up to 1 in 10,000 users): \\n \\n- Bleeding from the skin and mucous membranes and bruises, general lethargy, tendency to \\ninflammation (infections) especially sore throat and fever due to changes in the blood (decreased \\nnumber of white blood cells and platelets).  \\n- Severe breathing difficulties with panting breathing.  \\n- Kidney side effects.  \\n- Paleness, fatigue and jaundice due to severe anaemia.  \\n- Very rare cases of severe skin reactions have been reported.  \\n- Anaphylaxis: hypersensitivity reaction with fever, skin rash, swelling, and sometimes a drop in \\nblood pressure. \\n \\nIn case of long-term use of high doses of Paracetamol, the functions of the liver may be impaired (the \\nskin and the eyes become yellow, nausea, stomach pain or discomfort, easily getting tired).  \\n \\nIf any of the side effects becomes serious or if you notice other side effects, which are not listed in this \\nleaflet, please, talk to your doctor or pharmacist. \\n \\nReporting of side effects \\nIf you get any side effects, talk to your doctor. This includes any possible side effects not listed in \\nthis leaflet. You can also report side effects directly via HPRA Pharmacovigilance, Website: \\nwww.hpra.ie. \\n \\nBy reporting side effects, you can help provide more information on the safety of this medicine. \\n \\n \\n5. How to store Paracetamol \\n \\nKeep this medicine out of the sight and reach of children. \\n \\nStore below 25°С.  \\n \\nDo not use this drug after the expiry date which is stated on the cardboard package. The expiry date \\nrefers to the last day of the month. \\n \\nDo not use this drug if you notice a breach of the integrity of the blister or a change in the colour of the \\ntablets. \\n \\nDo not throw away any medicines via wastewater or household waste. Ask your pharmacist how to \\nthrow away medicines you no longer use. These measures will help protect the environment. \\n \\n \\n6. Contents of the pack and other information \\n \\nWhat Paracetamol contains  \\n- The active substance is: paracetamol. Each table contains 500 mg paracetamol. '),\n",
              " Document(metadata={'source': '/content/DATA/paracetamol.pdf', 'page': 5}, page_content=' 6\\n- The other ingredients (excipients) are: wheat starch; cellulo se, microcrystalline (PH 101); sodium \\nstarch glycolate (type A); magnesium stearate (vegetable grade); talc; povidone (K25); silica, \\ncolloidal, anhydrous (aerosil 200/ hydrophilic pyrogenic silica). \\n \\nWhat Paracetamol looks like and contents of the pack \\nRound, flat tablets, with a facet and a score line on one side, with a 13 mm diameter and 4 mm \\nthickness. Colour – white to almost white. \\n  \\nParacetamol 500mg tablets packs in PVC/aluminium blisters in packs of 12, 20 and 24 tablets \\nNot all packs sizes may be marketed. \\n \\nMarketing Authorisation Holder \\nBluefish Pharmaceuticals AB  \\nP.O. Box 49013  \\n100 28 Stockholm  \\nSweden  \\n \\nManufacturer \\nInbiotech Ltd. \\n5A Triaditza Str. \\nSofia 1000 \\nBulgaria \\n \\nThis medicinal product is authorised in the Member States of the EEA under the following \\nnames: \\nIreland Paracetamol 500mg tablets \\nPortugal Paracetamol Bluefish \\nSweden Paracetamol Bluefish \\n \\nThis leaflet was last revised in 07/2022 \\n ')]"
            ]
          },
          "metadata": {},
          "execution_count": 72
        }
      ]
    },
    {
      "cell_type": "code",
      "source": [
        "from langchain.text_splitter import RecursiveCharacterTextSplitter\n",
        "\n",
        "text_splitter=RecursiveCharacterTextSplitter(chunk_size=500,chunk_overlap=100)\n",
        "documents=text_splitter.split_documents(raw_file)\n",
        "documents"
      ],
      "metadata": {
        "colab": {
          "base_uri": "https://localhost:8080/"
        },
        "collapsed": true,
        "id": "l9DoVWP303F1",
        "outputId": "fbfb3c08-baed-4ccd-dfe5-cb321fbd7dd1"
      },
      "execution_count": null,
      "outputs": [
        {
          "output_type": "execute_result",
          "data": {
            "text/plain": [
              "[Document(metadata={'source': '/content/DATA/paracetamol.pdf', 'page': 0}, page_content='1\\nPackage leaflet: Information for the user \\n \\nParacetamol 500 mg tablets \\nparacetamol  \\n \\n \\nRead all of this leaflet carefully before you start taking this  medicine because it contains \\nimportant information for you. \\nAlways take this medicine exactly as described in this leaflet or as your doctor or pharmacist told you. \\n- Keep this leaflet. You may need to read it again. \\n- Ask your pharmacist if you need more information or advice.'),\n",
              " Document(metadata={'source': '/content/DATA/paracetamol.pdf', 'page': 0}, page_content='- Ask your pharmacist if you need more information or advice. \\n- If you get any side effects, talk to your doctor, or pharmacist . This includes any possible side \\neffects not listed in this leaflet. See section 4. \\nYou must talk to a doctor if you do not feel better or if you feel worse after 3 days of fever and 5 \\ndays of pain or if other symptoms appear.   \\n \\nWhat is in this leaflet  \\n1. What Paracetamol is and what it is used for \\n2. What you need to know before you take Paracetamol'),\n",
              " Document(metadata={'source': '/content/DATA/paracetamol.pdf', 'page': 0}, page_content='2. What you need to know before you take Paracetamol \\n3. How to take Paracetamol \\n4. Possible side effects \\n5. How to store Paracetamol \\n6. Contents of the pack and other information \\n \\n \\n1. What Paracetamol is and what it is used for \\n \\nParacetamol contains the active substance paracetamol which is a painkiller and also reduces your \\ntemperature when you have a fever. It is recommended for the short-term treatment of mild to moderate'),\n",
              " Document(metadata={'source': '/content/DATA/paracetamol.pdf', 'page': 0}, page_content='pain such as headache, toothache, muscle and joint pain and menstrual pain.  \\nIt also relieves fever associated with common colds and flu. \\n \\nYou must talk to a doctor if you do not feel better or if you feel worse after 3 days of fever and 5 days \\nof pain or if other symptoms appear.  \\n \\nParacetamol is indicated in adults and adolescents aged 12 or older. \\n \\n2. What you need to know before you take Paracetamol \\n \\nDo not take Paracetamol if:'),\n",
              " Document(metadata={'source': '/content/DATA/paracetamol.pdf', 'page': 0}, page_content='2. What you need to know before you take Paracetamol \\n \\nDo not take Paracetamol if: \\n- you are allergic to paracetamol or any of the other ingredients of this medicine (listed in section 6); \\n \\nWarnings and precautions \\nNever take more Paracetamol than what is stated in the dosing instructions. Higher doses than \\nrecommended will not lead to better pain relief, instead it increases the risk of very severe liver damage.'),\n",
              " Document(metadata={'source': '/content/DATA/paracetamol.pdf', 'page': 0}, page_content='The symptoms of liver damage usually appear after a few days. It is therefore important that you \\ncontact a doctor immediately if you have taken too high a dose, even if you are feeling fine. \\n \\nTalk to your doctor or pharmacist before taking Paracetamol.  \\n- if you have kidney problems   \\n- if you have liver problems'),\n",
              " Document(metadata={'source': '/content/DATA/paracetamol.pdf', 'page': 1}, page_content='2\\n- if you have a hereditary disease called Gilbert’s syndrome  \\n- if you are taking other medicines affecting liver function  \\n- if you have Glucose-6-phosphate dehydrogenase deficiency (an enzyme deficiency)  \\n- if you have haemolytic anaemia (abnormal breakdown of red blood cells)  \\n- if you have glutathione deficiency  \\n- if you are dehydrated or if your doctor told you that you are suffering from chronic malnutrition \\n- if you weigh less than 50kg \\n- if you are elderly'),\n",
              " Document(metadata={'source': '/content/DATA/paracetamol.pdf', 'page': 1}, page_content='- if you weigh less than 50kg \\n- if you are elderly \\n- if you have alcohol problems or liver damage and also do not use Paracetamol with alcohol.  \\n- if you use other analgesics containing paracetamol you must not use Paracetamol  \\n- if you have been diagnosed with asthma and are also sensitive to acetylsalicylic acid (an anti-\\ninflammatory medicinal product) because there is a risk of bronchospasm'),\n",
              " Document(metadata={'source': '/content/DATA/paracetamol.pdf', 'page': 1}, page_content='inflammatory medicinal product) because there is a risk of bronchospasm \\n \\n- Talk to a doctor if the pain lasts more than 5 days or the temperature remains high or if these \\nsymptoms are accompanied by cough, headache, rash, nausea and vomiting. \\n \\nChildren and adolescents \\nParacetamol is not recommended for children under 12 years of age. Other formulations containing \\nparacetamol are available. \\n \\nOther medicines and Paracetamol'),\n",
              " Document(metadata={'source': '/content/DATA/paracetamol.pdf', 'page': 1}, page_content='paracetamol are available. \\n \\nOther medicines and Paracetamol \\nTell your doctor or pharmacist if you are taking, have recently taken or might take any other medicines: \\n \\n\\uf0b7 The concomitant use of Paracetamol might potentiate the effect of coumarin anticoagulants \\n(blood thinning medicine). \\n\\uf0b7 Cholestyramine (to lower cholesterol), reduces the absorption of Paracetamol. Metoclopramide \\nand domperidone (for nausea and vomiting) may increase the rate of absorption of Paracetamol.'),\n",
              " Document(metadata={'source': '/content/DATA/paracetamol.pdf', 'page': 1}, page_content='and domperidone (for nausea and vomiting) may increase the rate of absorption of Paracetamol. \\nHowever, concurrent use does not need to be avoided.  \\n\\uf0b7 The concomitant use of Paracetamol with phenothiazines may lead to hypothermia.  \\n\\uf0b7 Enzyme inductors, such as phenytoin, carbamazepine, phenobarbital, isoniazid, St Johns wort \\nmay increase the risk of hepatotoxicity. \\n\\uf0b7 Probenecid (a medicine for gout).  \\n\\uf0b7 Oral contraceptives and Rifampicin reduce the effects of Paracetamol.'),\n",
              " Document(metadata={'source': '/content/DATA/paracetamol.pdf', 'page': 1}, page_content='\\uf0b7 Oral contraceptives and Rifampicin reduce the effects of Paracetamol. \\n \\nParacetamol with food, drink and alcohol  \\nParacetamol must not be taken together with alcohol due to a risk of an increase in the toxic effect of \\nparacetamol on the liver. \\n \\nPregnancy, breast-feeding and fertility  \\nIf you are pregnant or breast-feeding, think you may be pregnant or are planning to have a baby, ask \\nyour doctor for advice before taking this medicine.'),\n",
              " Document(metadata={'source': '/content/DATA/paracetamol.pdf', 'page': 1}, page_content='your doctor for advice before taking this medicine. \\n \\nIf necessary, Paracetamol can be used during pregnancy. You should use the lowest possible dose that \\nreduces your pain and/or your fever and use it for the shortest time possible. Contact your doctor if the \\npain and/or fever are not reduced or if you need to take the medicine more often. \\n \\nYou can take this product whilst breastfeeding. \\n \\nDriving and using machines \\nParacetamol does not affect the ability to drive and use machines.'),\n",
              " Document(metadata={'source': '/content/DATA/paracetamol.pdf', 'page': 2}, page_content='3\\n \\nParacetamol contains sodium and wheat starch \\nThis medicine contains less than 1 mmol sodium (23 mg) per tablet, that is to say essentially ‘sodium-\\nfree’. \\nThis medicine contains only very low levels of gluten (from whe at starch) and is very unlikely to cause \\nproblems if you have coeliac disease. \\nOne tablet contains no more than 3 micrograms of gluten. If you  have wheat allergy (different form \\ncoeliac disease) you should not take this medicine. \\n \\n \\n3. How to take Paracetamol'),\n",
              " Document(metadata={'source': '/content/DATA/paracetamol.pdf', 'page': 2}, page_content='coeliac disease) you should not take this medicine. \\n \\n \\n3. How to take Paracetamol \\n \\nAlways take this medicine exactly as described in this leaflet or as your doctor or pharmacist has told \\nyou. Check with your doctor or pharmacist if you are not sure. \\n \\nParacetamol should be used at the lowest effective dose for the shortest possible time. Dose depends on \\nage and body weight, generally 10 to 15 mg/kg body weight as a single dose, up to a maximum of 60'),\n",
              " Document(metadata={'source': '/content/DATA/paracetamol.pdf', 'page': 2}, page_content='age and body weight, generally 10 to 15 mg/kg body weight as a single dose, up to a maximum of 60 \\nmg/kg body weight as the total daily dose, not exceeding 3000 mg.  \\n \\nDoses recommended as per the table below: \\n \\nAge Body weight Single dose Maximum \\ndaily dose \\nDosing interval \\n12 – 15 years 40 – 55  kg 500 mg (1 tablet) 2 - 3 g \\n(maximum of \\n4 - 6 tablets \\nper 24 hours) \\nat least \\n4 – 6 hours \\n> 15 years 40 – 55  kg 500 mg (1 tablet) 3 g (maximum \\nof 4 - 6 tablets \\nper 24 hours) \\nat least'),\n",
              " Document(metadata={'source': '/content/DATA/paracetamol.pdf', 'page': 2}, page_content='> 15 years 40 – 55  kg 500 mg (1 tablet) 3 g (maximum \\nof 4 - 6 tablets \\nper 24 hours) \\nat least \\n4 – 6 hours \\n> 55 kg 500 – 1,000 mg (1-2 \\ntablets) \\n3 g \\n(maximum of \\n6 tablets per \\n24 hours) \\n \\nParacetamol is not recommended for children under 12 years of age. Other formulations containing \\nparacetamol are available.  \\n \\nThe length of the course of treatment without a consultation with a doctor must not exceed, for adults \\nand children 12 years and over, 3 days for fever and 5 days for pain.'),\n",
              " Document(metadata={'source': '/content/DATA/paracetamol.pdf', 'page': 2}, page_content='and children 12 years and over, 3 days for fever and 5 days for pain. \\n \\nElderly \\nNormal adult dosage of paracetamol is usually appropriate. However, in frail, immobile elderly subjects \\nor in elderly patients with renal or hepatic impairment, or patients who have Gilbert’s syndrome, a \\nreduction in the amount or frequency of dosing may be appropriate. \\n \\nUse in kidney or liver impairment  \\nIf you have been diagnosed with kidney or liver problems, please consult your doctor or pharmacist.'),\n",
              " Document(metadata={'source': '/content/DATA/paracetamol.pdf', 'page': 2}, page_content='You may need to take a lower dose or increase the length of time between doses.'),\n",
              " Document(metadata={'source': '/content/DATA/paracetamol.pdf', 'page': 3}, page_content='4\\nMethod of administration \\nSwallow the tablet with water.  \\nIf necessary, the tablet can be divided in two equal parts. Check with your doctor or pharmacist if you \\nare not sure about anything. \\n \\nIf you have taken more of Paracetamol than you should \\nIf you have used more Paracetamol than you should, immediate medical advice should be sought \\nbecause there is a risk of irreversible liver damage, even if you feel well.'),\n",
              " Document(metadata={'source': '/content/DATA/paracetamol.pdf', 'page': 3}, page_content='because there is a risk of irreversible liver damage, even if you feel well. \\nTo prevent liver damage, it is important that your doctor can start treatment as soon as possible. The \\nsooner you receive treatment of an overdose the better are the chances to prevent damage to the liver.  \\nThese may not appear even in an overdose situation. \\n \\nIf you have any further questions on the use of this medicine, ask your doctor or pharmacist. \\n \\n \\n4. Possible side effects'),\n",
              " Document(metadata={'source': '/content/DATA/paracetamol.pdf', 'page': 3}, page_content='4. Possible side effects  \\n \\nLike all medicines, this medicine can cause side effects, although not everybody gets them. \\n \\nAgranulocytosis \\nStop taking Paracetamol and immediately contact a doctor if you experience one of the following \\nsymptoms (agranulocytosis): fever coupled with a severely deteriorated general state of health or a \\nfever in combination with sore throat/mouth or difficulty urinating, which are signs of infection. As'),\n",
              " Document(metadata={'source': '/content/DATA/paracetamol.pdf', 'page': 3}, page_content='Paracetamol can in rare cases lead to a deteriorated immune system due to a lack of white blood cells, \\ninfections can become serious. For this reason, it is also important that you inform health care personnel \\nabout your medication \\n \\nStevens-Johnson syndrome / TEN/AGEP \\nStop taking Paracetamol and immediately contact a doctor or go to the emergency department if you \\nexperience the following symptoms: Extremely intense and serious skin reactions, such as Stevens-'),\n",
              " Document(metadata={'source': '/content/DATA/paracetamol.pdf', 'page': 3}, page_content='experience the following symptoms: Extremely intense and serious skin reactions, such as Stevens-\\nJohnson syndrome, toxic epidermal necrolysis and acute generalized exanthematous pustulosis (AGEP) \\nhave been reported during use of Paracetamol. \\nThe adverse reaction of the skin may appear as rashes with or without blisters. Skin irritation, sores or \\nswelling in the mouth, throat, eyes, nose and around the genitals (Stevens-Johnson syndrome) and fever'),\n",
              " Document(metadata={'source': '/content/DATA/paracetamol.pdf', 'page': 3}, page_content='and flulike symptoms may occur. The skin rashes may develop into serious widespread skin damage \\n(peeling of the epidermis and superficial mucous membranes) with life-threatening consequences. \\nIf symptoms of AGEP appear, it usually occurs in conjunction with the start of treatment. \\n \\nAngioedema \\nStop using Paracetamol and immediately contact a doctor if you experience any of the following \\nsymptoms (angioedema): swelling of the face, tongue or throat; difficulty swallowing; hives and'),\n",
              " Document(metadata={'source': '/content/DATA/paracetamol.pdf', 'page': 3}, page_content='symptoms (angioedema): swelling of the face, tongue or throat; difficulty swallowing; hives and \\nbreathing difficulties. \\n \\nIn rare cases allergic reactions are observed – itching, rash, very rarely – changes in the blood count, \\ne.g. thrombocytopenia (decrease of the number of blood plates). \\n \\nRare (may affect up to 1 in 1000 users): \\n \\n- Angioedema, very severe allergic reaction (swelling of the face, tongue or throat, difficulty \\nswallowing, hives and difficulty breathing)'),\n",
              " Document(metadata={'source': '/content/DATA/paracetamol.pdf', 'page': 4}, page_content='5\\n- Allergic reactions such as skin rashes and hives. Even less severe forms of skin reactions, rashes \\nand itching may occur. \\n- Liver impact. This can be very serious and can produce symptoms such as fatigue, nausea, \\nvomiting, stomach upset and loss of appetite. \\n \\nVery rare (may affect up to 1 in 10,000 users): \\n \\n- Bleeding from the skin and mucous membranes and bruises, general lethargy, tendency to'),\n",
              " Document(metadata={'source': '/content/DATA/paracetamol.pdf', 'page': 4}, page_content='- Bleeding from the skin and mucous membranes and bruises, general lethargy, tendency to \\ninflammation (infections) especially sore throat and fever due to changes in the blood (decreased \\nnumber of white blood cells and platelets).  \\n- Severe breathing difficulties with panting breathing.  \\n- Kidney side effects.  \\n- Paleness, fatigue and jaundice due to severe anaemia.  \\n- Very rare cases of severe skin reactions have been reported.'),\n",
              " Document(metadata={'source': '/content/DATA/paracetamol.pdf', 'page': 4}, page_content='- Very rare cases of severe skin reactions have been reported.  \\n- Anaphylaxis: hypersensitivity reaction with fever, skin rash, swelling, and sometimes a drop in \\nblood pressure. \\n \\nIn case of long-term use of high doses of Paracetamol, the functions of the liver may be impaired (the \\nskin and the eyes become yellow, nausea, stomach pain or discomfort, easily getting tired).  \\n \\nIf any of the side effects becomes serious or if you notice other side effects, which are not listed in this'),\n",
              " Document(metadata={'source': '/content/DATA/paracetamol.pdf', 'page': 4}, page_content='leaflet, please, talk to your doctor or pharmacist. \\n \\nReporting of side effects \\nIf you get any side effects, talk to your doctor. This includes any possible side effects not listed in \\nthis leaflet. You can also report side effects directly via HPRA Pharmacovigilance, Website: \\nwww.hpra.ie. \\n \\nBy reporting side effects, you can help provide more information on the safety of this medicine. \\n \\n \\n5. How to store Paracetamol \\n \\nKeep this medicine out of the sight and reach of children.'),\n",
              " Document(metadata={'source': '/content/DATA/paracetamol.pdf', 'page': 4}, page_content='5. How to store Paracetamol \\n \\nKeep this medicine out of the sight and reach of children. \\n \\nStore below 25°С.  \\n \\nDo not use this drug after the expiry date which is stated on the cardboard package. The expiry date \\nrefers to the last day of the month. \\n \\nDo not use this drug if you notice a breach of the integrity of the blister or a change in the colour of the \\ntablets. \\n \\nDo not throw away any medicines via wastewater or household waste. Ask your pharmacist how to'),\n",
              " Document(metadata={'source': '/content/DATA/paracetamol.pdf', 'page': 4}, page_content='Do not throw away any medicines via wastewater or household waste. Ask your pharmacist how to \\nthrow away medicines you no longer use. These measures will help protect the environment. \\n \\n \\n6. Contents of the pack and other information \\n \\nWhat Paracetamol contains  \\n- The active substance is: paracetamol. Each table contains 500 mg paracetamol.'),\n",
              " Document(metadata={'source': '/content/DATA/paracetamol.pdf', 'page': 5}, page_content='6\\n- The other ingredients (excipients) are: wheat starch; cellulo se, microcrystalline (PH 101); sodium \\nstarch glycolate (type A); magnesium stearate (vegetable grade); talc; povidone (K25); silica, \\ncolloidal, anhydrous (aerosil 200/ hydrophilic pyrogenic silica). \\n \\nWhat Paracetamol looks like and contents of the pack \\nRound, flat tablets, with a facet and a score line on one side, with a 13 mm diameter and 4 mm \\nthickness. Colour – white to almost white.'),\n",
              " Document(metadata={'source': '/content/DATA/paracetamol.pdf', 'page': 5}, page_content='thickness. Colour – white to almost white. \\n  \\nParacetamol 500mg tablets packs in PVC/aluminium blisters in packs of 12, 20 and 24 tablets \\nNot all packs sizes may be marketed. \\n \\nMarketing Authorisation Holder \\nBluefish Pharmaceuticals AB  \\nP.O. Box 49013  \\n100 28 Stockholm  \\nSweden  \\n \\nManufacturer \\nInbiotech Ltd. \\n5A Triaditza Str. \\nSofia 1000 \\nBulgaria \\n \\nThis medicinal product is authorised in the Member States of the EEA under the following \\nnames: \\nIreland Paracetamol 500mg tablets'),\n",
              " Document(metadata={'source': '/content/DATA/paracetamol.pdf', 'page': 5}, page_content='names: \\nIreland Paracetamol 500mg tablets \\nPortugal Paracetamol Bluefish \\nSweden Paracetamol Bluefish \\n \\nThis leaflet was last revised in 07/2022')]"
            ]
          },
          "metadata": {},
          "execution_count": 75
        }
      ]
    },
    {
      "cell_type": "code",
      "source": [
        "documents=[doc.page_content for doc in documents]\n",
        "documents"
      ],
      "metadata": {
        "colab": {
          "base_uri": "https://localhost:8080/"
        },
        "collapsed": true,
        "id": "p67rsxwd1rGm",
        "outputId": "d876853f-eccb-49c3-dd8b-ff0df6f82e47"
      },
      "execution_count": null,
      "outputs": [
        {
          "output_type": "execute_result",
          "data": {
            "text/plain": [
              "['1\\nPackage leaflet: Information for the user \\n \\nParacetamol 500 mg tablets \\nparacetamol  \\n \\n \\nRead all of this leaflet carefully before you start taking this  medicine because it contains \\nimportant information for you. \\nAlways take this medicine exactly as described in this leaflet or as your doctor or pharmacist told you. \\n- Keep this leaflet. You may need to read it again. \\n- Ask your pharmacist if you need more information or advice.',\n",
              " '- Ask your pharmacist if you need more information or advice. \\n- If you get any side effects, talk to your doctor, or pharmacist . This includes any possible side \\neffects not listed in this leaflet. See section 4. \\nYou must talk to a doctor if you do not feel better or if you feel worse after 3 days of fever and 5 \\ndays of pain or if other symptoms appear.   \\n \\nWhat is in this leaflet  \\n1. What Paracetamol is and what it is used for \\n2. What you need to know before you take Paracetamol',\n",
              " '2. What you need to know before you take Paracetamol \\n3. How to take Paracetamol \\n4. Possible side effects \\n5. How to store Paracetamol \\n6. Contents of the pack and other information \\n \\n \\n1. What Paracetamol is and what it is used for \\n \\nParacetamol contains the active substance paracetamol which is a painkiller and also reduces your \\ntemperature when you have a fever. It is recommended for the short-term treatment of mild to moderate',\n",
              " 'pain such as headache, toothache, muscle and joint pain and menstrual pain.  \\nIt also relieves fever associated with common colds and flu. \\n \\nYou must talk to a doctor if you do not feel better or if you feel worse after 3 days of fever and 5 days \\nof pain or if other symptoms appear.  \\n \\nParacetamol is indicated in adults and adolescents aged 12 or older. \\n \\n2. What you need to know before you take Paracetamol \\n \\nDo not take Paracetamol if:',\n",
              " '2. What you need to know before you take Paracetamol \\n \\nDo not take Paracetamol if: \\n- you are allergic to paracetamol or any of the other ingredients of this medicine (listed in section 6); \\n \\nWarnings and precautions \\nNever take more Paracetamol than what is stated in the dosing instructions. Higher doses than \\nrecommended will not lead to better pain relief, instead it increases the risk of very severe liver damage.',\n",
              " 'The symptoms of liver damage usually appear after a few days. It is therefore important that you \\ncontact a doctor immediately if you have taken too high a dose, even if you are feeling fine. \\n \\nTalk to your doctor or pharmacist before taking Paracetamol.  \\n- if you have kidney problems   \\n- if you have liver problems',\n",
              " '2\\n- if you have a hereditary disease called Gilbert’s syndrome  \\n- if you are taking other medicines affecting liver function  \\n- if you have Glucose-6-phosphate dehydrogenase deficiency (an enzyme deficiency)  \\n- if you have haemolytic anaemia (abnormal breakdown of red blood cells)  \\n- if you have glutathione deficiency  \\n- if you are dehydrated or if your doctor told you that you are suffering from chronic malnutrition \\n- if you weigh less than 50kg \\n- if you are elderly',\n",
              " '- if you weigh less than 50kg \\n- if you are elderly \\n- if you have alcohol problems or liver damage and also do not use Paracetamol with alcohol.  \\n- if you use other analgesics containing paracetamol you must not use Paracetamol  \\n- if you have been diagnosed with asthma and are also sensitive to acetylsalicylic acid (an anti-\\ninflammatory medicinal product) because there is a risk of bronchospasm',\n",
              " 'inflammatory medicinal product) because there is a risk of bronchospasm \\n \\n- Talk to a doctor if the pain lasts more than 5 days or the temperature remains high or if these \\nsymptoms are accompanied by cough, headache, rash, nausea and vomiting. \\n \\nChildren and adolescents \\nParacetamol is not recommended for children under 12 years of age. Other formulations containing \\nparacetamol are available. \\n \\nOther medicines and Paracetamol',\n",
              " 'paracetamol are available. \\n \\nOther medicines and Paracetamol \\nTell your doctor or pharmacist if you are taking, have recently taken or might take any other medicines: \\n \\n\\uf0b7 The concomitant use of Paracetamol might potentiate the effect of coumarin anticoagulants \\n(blood thinning medicine). \\n\\uf0b7 Cholestyramine (to lower cholesterol), reduces the absorption of Paracetamol. Metoclopramide \\nand domperidone (for nausea and vomiting) may increase the rate of absorption of Paracetamol.',\n",
              " 'and domperidone (for nausea and vomiting) may increase the rate of absorption of Paracetamol. \\nHowever, concurrent use does not need to be avoided.  \\n\\uf0b7 The concomitant use of Paracetamol with phenothiazines may lead to hypothermia.  \\n\\uf0b7 Enzyme inductors, such as phenytoin, carbamazepine, phenobarbital, isoniazid, St Johns wort \\nmay increase the risk of hepatotoxicity. \\n\\uf0b7 Probenecid (a medicine for gout).  \\n\\uf0b7 Oral contraceptives and Rifampicin reduce the effects of Paracetamol.',\n",
              " '\\uf0b7 Oral contraceptives and Rifampicin reduce the effects of Paracetamol. \\n \\nParacetamol with food, drink and alcohol  \\nParacetamol must not be taken together with alcohol due to a risk of an increase in the toxic effect of \\nparacetamol on the liver. \\n \\nPregnancy, breast-feeding and fertility  \\nIf you are pregnant or breast-feeding, think you may be pregnant or are planning to have a baby, ask \\nyour doctor for advice before taking this medicine.',\n",
              " 'your doctor for advice before taking this medicine. \\n \\nIf necessary, Paracetamol can be used during pregnancy. You should use the lowest possible dose that \\nreduces your pain and/or your fever and use it for the shortest time possible. Contact your doctor if the \\npain and/or fever are not reduced or if you need to take the medicine more often. \\n \\nYou can take this product whilst breastfeeding. \\n \\nDriving and using machines \\nParacetamol does not affect the ability to drive and use machines.',\n",
              " '3\\n \\nParacetamol contains sodium and wheat starch \\nThis medicine contains less than 1 mmol sodium (23 mg) per tablet, that is to say essentially ‘sodium-\\nfree’. \\nThis medicine contains only very low levels of gluten (from whe at starch) and is very unlikely to cause \\nproblems if you have coeliac disease. \\nOne tablet contains no more than 3 micrograms of gluten. If you  have wheat allergy (different form \\ncoeliac disease) you should not take this medicine. \\n \\n \\n3. How to take Paracetamol',\n",
              " 'coeliac disease) you should not take this medicine. \\n \\n \\n3. How to take Paracetamol \\n \\nAlways take this medicine exactly as described in this leaflet or as your doctor or pharmacist has told \\nyou. Check with your doctor or pharmacist if you are not sure. \\n \\nParacetamol should be used at the lowest effective dose for the shortest possible time. Dose depends on \\nage and body weight, generally 10 to 15 mg/kg body weight as a single dose, up to a maximum of 60',\n",
              " 'age and body weight, generally 10 to 15 mg/kg body weight as a single dose, up to a maximum of 60 \\nmg/kg body weight as the total daily dose, not exceeding 3000 mg.  \\n \\nDoses recommended as per the table below: \\n \\nAge Body weight Single dose Maximum \\ndaily dose \\nDosing interval \\n12 – 15 years 40 – 55  kg 500 mg (1 tablet) 2 - 3 g \\n(maximum of \\n4 - 6 tablets \\nper 24 hours) \\nat least \\n4 – 6 hours \\n> 15 years 40 – 55  kg 500 mg (1 tablet) 3 g (maximum \\nof 4 - 6 tablets \\nper 24 hours) \\nat least',\n",
              " '> 15 years 40 – 55  kg 500 mg (1 tablet) 3 g (maximum \\nof 4 - 6 tablets \\nper 24 hours) \\nat least \\n4 – 6 hours \\n> 55 kg 500 – 1,000 mg (1-2 \\ntablets) \\n3 g \\n(maximum of \\n6 tablets per \\n24 hours) \\n \\nParacetamol is not recommended for children under 12 years of age. Other formulations containing \\nparacetamol are available.  \\n \\nThe length of the course of treatment without a consultation with a doctor must not exceed, for adults \\nand children 12 years and over, 3 days for fever and 5 days for pain.',\n",
              " 'and children 12 years and over, 3 days for fever and 5 days for pain. \\n \\nElderly \\nNormal adult dosage of paracetamol is usually appropriate. However, in frail, immobile elderly subjects \\nor in elderly patients with renal or hepatic impairment, or patients who have Gilbert’s syndrome, a \\nreduction in the amount or frequency of dosing may be appropriate. \\n \\nUse in kidney or liver impairment  \\nIf you have been diagnosed with kidney or liver problems, please consult your doctor or pharmacist.',\n",
              " 'You may need to take a lower dose or increase the length of time between doses.',\n",
              " '4\\nMethod of administration \\nSwallow the tablet with water.  \\nIf necessary, the tablet can be divided in two equal parts. Check with your doctor or pharmacist if you \\nare not sure about anything. \\n \\nIf you have taken more of Paracetamol than you should \\nIf you have used more Paracetamol than you should, immediate medical advice should be sought \\nbecause there is a risk of irreversible liver damage, even if you feel well.',\n",
              " 'because there is a risk of irreversible liver damage, even if you feel well. \\nTo prevent liver damage, it is important that your doctor can start treatment as soon as possible. The \\nsooner you receive treatment of an overdose the better are the chances to prevent damage to the liver.  \\nThese may not appear even in an overdose situation. \\n \\nIf you have any further questions on the use of this medicine, ask your doctor or pharmacist. \\n \\n \\n4. Possible side effects',\n",
              " '4. Possible side effects  \\n \\nLike all medicines, this medicine can cause side effects, although not everybody gets them. \\n \\nAgranulocytosis \\nStop taking Paracetamol and immediately contact a doctor if you experience one of the following \\nsymptoms (agranulocytosis): fever coupled with a severely deteriorated general state of health or a \\nfever in combination with sore throat/mouth or difficulty urinating, which are signs of infection. As',\n",
              " 'Paracetamol can in rare cases lead to a deteriorated immune system due to a lack of white blood cells, \\ninfections can become serious. For this reason, it is also important that you inform health care personnel \\nabout your medication \\n \\nStevens-Johnson syndrome / TEN/AGEP \\nStop taking Paracetamol and immediately contact a doctor or go to the emergency department if you \\nexperience the following symptoms: Extremely intense and serious skin reactions, such as Stevens-',\n",
              " 'experience the following symptoms: Extremely intense and serious skin reactions, such as Stevens-\\nJohnson syndrome, toxic epidermal necrolysis and acute generalized exanthematous pustulosis (AGEP) \\nhave been reported during use of Paracetamol. \\nThe adverse reaction of the skin may appear as rashes with or without blisters. Skin irritation, sores or \\nswelling in the mouth, throat, eyes, nose and around the genitals (Stevens-Johnson syndrome) and fever',\n",
              " 'and flulike symptoms may occur. The skin rashes may develop into serious widespread skin damage \\n(peeling of the epidermis and superficial mucous membranes) with life-threatening consequences. \\nIf symptoms of AGEP appear, it usually occurs in conjunction with the start of treatment. \\n \\nAngioedema \\nStop using Paracetamol and immediately contact a doctor if you experience any of the following \\nsymptoms (angioedema): swelling of the face, tongue or throat; difficulty swallowing; hives and',\n",
              " 'symptoms (angioedema): swelling of the face, tongue or throat; difficulty swallowing; hives and \\nbreathing difficulties. \\n \\nIn rare cases allergic reactions are observed – itching, rash, very rarely – changes in the blood count, \\ne.g. thrombocytopenia (decrease of the number of blood plates). \\n \\nRare (may affect up to 1 in 1000 users): \\n \\n- Angioedema, very severe allergic reaction (swelling of the face, tongue or throat, difficulty \\nswallowing, hives and difficulty breathing)',\n",
              " '5\\n- Allergic reactions such as skin rashes and hives. Even less severe forms of skin reactions, rashes \\nand itching may occur. \\n- Liver impact. This can be very serious and can produce symptoms such as fatigue, nausea, \\nvomiting, stomach upset and loss of appetite. \\n \\nVery rare (may affect up to 1 in 10,000 users): \\n \\n- Bleeding from the skin and mucous membranes and bruises, general lethargy, tendency to',\n",
              " '- Bleeding from the skin and mucous membranes and bruises, general lethargy, tendency to \\ninflammation (infections) especially sore throat and fever due to changes in the blood (decreased \\nnumber of white blood cells and platelets).  \\n- Severe breathing difficulties with panting breathing.  \\n- Kidney side effects.  \\n- Paleness, fatigue and jaundice due to severe anaemia.  \\n- Very rare cases of severe skin reactions have been reported.',\n",
              " '- Very rare cases of severe skin reactions have been reported.  \\n- Anaphylaxis: hypersensitivity reaction with fever, skin rash, swelling, and sometimes a drop in \\nblood pressure. \\n \\nIn case of long-term use of high doses of Paracetamol, the functions of the liver may be impaired (the \\nskin and the eyes become yellow, nausea, stomach pain or discomfort, easily getting tired).  \\n \\nIf any of the side effects becomes serious or if you notice other side effects, which are not listed in this',\n",
              " 'leaflet, please, talk to your doctor or pharmacist. \\n \\nReporting of side effects \\nIf you get any side effects, talk to your doctor. This includes any possible side effects not listed in \\nthis leaflet. You can also report side effects directly via HPRA Pharmacovigilance, Website: \\nwww.hpra.ie. \\n \\nBy reporting side effects, you can help provide more information on the safety of this medicine. \\n \\n \\n5. How to store Paracetamol \\n \\nKeep this medicine out of the sight and reach of children.',\n",
              " '5. How to store Paracetamol \\n \\nKeep this medicine out of the sight and reach of children. \\n \\nStore below 25°С.  \\n \\nDo not use this drug after the expiry date which is stated on the cardboard package. The expiry date \\nrefers to the last day of the month. \\n \\nDo not use this drug if you notice a breach of the integrity of the blister or a change in the colour of the \\ntablets. \\n \\nDo not throw away any medicines via wastewater or household waste. Ask your pharmacist how to',\n",
              " 'Do not throw away any medicines via wastewater or household waste. Ask your pharmacist how to \\nthrow away medicines you no longer use. These measures will help protect the environment. \\n \\n \\n6. Contents of the pack and other information \\n \\nWhat Paracetamol contains  \\n- The active substance is: paracetamol. Each table contains 500 mg paracetamol.',\n",
              " '6\\n- The other ingredients (excipients) are: wheat starch; cellulo se, microcrystalline (PH 101); sodium \\nstarch glycolate (type A); magnesium stearate (vegetable grade); talc; povidone (K25); silica, \\ncolloidal, anhydrous (aerosil 200/ hydrophilic pyrogenic silica). \\n \\nWhat Paracetamol looks like and contents of the pack \\nRound, flat tablets, with a facet and a score line on one side, with a 13 mm diameter and 4 mm \\nthickness. Colour – white to almost white.',\n",
              " 'thickness. Colour – white to almost white. \\n  \\nParacetamol 500mg tablets packs in PVC/aluminium blisters in packs of 12, 20 and 24 tablets \\nNot all packs sizes may be marketed. \\n \\nMarketing Authorisation Holder \\nBluefish Pharmaceuticals AB  \\nP.O. Box 49013  \\n100 28 Stockholm  \\nSweden  \\n \\nManufacturer \\nInbiotech Ltd. \\n5A Triaditza Str. \\nSofia 1000 \\nBulgaria \\n \\nThis medicinal product is authorised in the Member States of the EEA under the following \\nnames: \\nIreland Paracetamol 500mg tablets',\n",
              " 'names: \\nIreland Paracetamol 500mg tablets \\nPortugal Paracetamol Bluefish \\nSweden Paracetamol Bluefish \\n \\nThis leaflet was last revised in 07/2022']"
            ]
          },
          "metadata": {},
          "execution_count": 76
        }
      ]
    },
    {
      "cell_type": "code",
      "source": [
        "!pip install google.generativeai>=0.8.3 chromadb"
      ],
      "metadata": {
        "id": "0maGS-gE192a"
      },
      "execution_count": null,
      "outputs": []
    },
    {
      "cell_type": "code",
      "source": [
        "import google.generativeai as genai\n",
        "from IPython.display import Markdown\n"
      ],
      "metadata": {
        "id": "xph0djwc2HmI"
      },
      "execution_count": null,
      "outputs": []
    },
    {
      "cell_type": "code",
      "source": [
        "genai.configure(api_key=\"AIzaSyCRxDyK59tPFcWB0qQtd2h\")"
      ],
      "metadata": {
        "id": "hrZcDvXy3POz"
      },
      "execution_count": null,
      "outputs": []
    },
    {
      "cell_type": "markdown",
      "source": [],
      "metadata": {
        "id": "TQH_YzfaxFP_"
      }
    },
    {
      "cell_type": "code",
      "source": [
        "for m in genai.list_models():\n",
        "     if \"embedContent\" in m.supported_generation_methods:\n",
        "         print(m.name)"
      ],
      "metadata": {
        "colab": {
          "base_uri": "https://localhost:8080/",
          "height": 71
        },
        "id": "alLf2qH42VvU",
        "outputId": "34716911-5aad-4e49-ca93-618d7407a486"
      },
      "execution_count": null,
      "outputs": [
        {
          "output_type": "stream",
          "name": "stdout",
          "text": [
            "models/embedding-001\n",
            "models/text-embedding-004\n"
          ]
        }
      ]
    },
    {
      "cell_type": "code",
      "source": [
        "from chromadb import Documents, EmbeddingFunction, Embeddings\n",
        "from google.api_core import retry\n",
        "\n",
        "\n",
        "class GeminiEmbeddingFunction(EmbeddingFunction):\n",
        "    # Specify whether to generate embeddings for documents, or queries\n",
        "    document_mode = True\n",
        "\n",
        "    def __call__(self, input: Documents) -> Embeddings:\n",
        "        if self.document_mode:\n",
        "            embedding_task = \"retrieval_document\"\n",
        "        else:\n",
        "            embedding_task = \"retrieval_query\"\n",
        "\n",
        "        retry_policy = {\"retry\": retry.Retry(predicate=retry.if_transient_error)}\n",
        "\n",
        "        response = genai.embed_content(\n",
        "            model=\"models/text-embedding-004\",\n",
        "            content=documents,\n",
        "            task_type=embedding_task,\n",
        "            request_options=retry_policy,\n",
        "        )\n",
        "        return response[\"embedding\"]"
      ],
      "metadata": {
        "id": "JBO0hwjC24o_"
      },
      "execution_count": null,
      "outputs": []
    },
    {
      "cell_type": "code",
      "source": [
        "import chromadb\n",
        "DB_NAME = \"googlecardb\"\n",
        "embed_fn = GeminiEmbeddingFunction()\n",
        "embed_fn.document_mode = True\n",
        "\n",
        "chroma_client = chromadb.Client()\n",
        "db = chroma_client.get_or_create_collection(name=DB_NAME, embedding_function=embed_fn)\n",
        "\n",
        "db.add(documents=documents, ids=[str(i) for i in range(len(documents))])"
      ],
      "metadata": {
        "colab": {
          "base_uri": "https://localhost:8080/",
          "height": 1000
        },
        "collapsed": true,
        "id": "cnJK9eD53_yP",
        "outputId": "62065b8f-6282-4024-d70b-71ccfe8a0098"
      },
      "execution_count": null,
      "outputs": [
        {
          "output_type": "stream",
          "name": "stderr",
          "text": [
            "WARNING:chromadb.segment.impl.vector.local_hnsw:Add of existing embedding ID: 0\n",
            "WARNING:chromadb.segment.impl.vector.local_hnsw:Add of existing embedding ID: 1\n",
            "WARNING:chromadb.segment.impl.vector.local_hnsw:Add of existing embedding ID: 2\n",
            "WARNING:chromadb.segment.impl.vector.local_hnsw:Add of existing embedding ID: 3\n",
            "WARNING:chromadb.segment.impl.vector.local_hnsw:Add of existing embedding ID: 4\n",
            "WARNING:chromadb.segment.impl.vector.local_hnsw:Add of existing embedding ID: 5\n",
            "WARNING:chromadb.segment.impl.vector.local_hnsw:Add of existing embedding ID: 6\n",
            "WARNING:chromadb.segment.impl.vector.local_hnsw:Add of existing embedding ID: 7\n",
            "WARNING:chromadb.segment.impl.vector.local_hnsw:Add of existing embedding ID: 8\n",
            "WARNING:chromadb.segment.impl.vector.local_hnsw:Add of existing embedding ID: 9\n",
            "WARNING:chromadb.segment.impl.vector.local_hnsw:Add of existing embedding ID: 10\n",
            "WARNING:chromadb.segment.impl.vector.local_hnsw:Add of existing embedding ID: 11\n",
            "WARNING:chromadb.segment.impl.vector.local_hnsw:Add of existing embedding ID: 12\n",
            "WARNING:chromadb.segment.impl.vector.local_hnsw:Add of existing embedding ID: 13\n",
            "WARNING:chromadb.segment.impl.vector.local_hnsw:Add of existing embedding ID: 14\n",
            "WARNING:chromadb.segment.impl.vector.local_hnsw:Add of existing embedding ID: 15\n",
            "WARNING:chromadb.segment.impl.vector.local_hnsw:Add of existing embedding ID: 16\n",
            "WARNING:chromadb.segment.impl.vector.local_hnsw:Add of existing embedding ID: 17\n",
            "WARNING:chromadb.segment.impl.vector.local_hnsw:Add of existing embedding ID: 18\n",
            "WARNING:chromadb.segment.impl.vector.local_hnsw:Add of existing embedding ID: 19\n",
            "WARNING:chromadb.segment.impl.vector.local_hnsw:Add of existing embedding ID: 20\n",
            "WARNING:chromadb.segment.impl.vector.local_hnsw:Add of existing embedding ID: 21\n",
            "WARNING:chromadb.segment.impl.vector.local_hnsw:Add of existing embedding ID: 22\n",
            "WARNING:chromadb.segment.impl.vector.local_hnsw:Add of existing embedding ID: 23\n",
            "WARNING:chromadb.segment.impl.vector.local_hnsw:Add of existing embedding ID: 24\n",
            "WARNING:chromadb.segment.impl.vector.local_hnsw:Add of existing embedding ID: 25\n",
            "WARNING:chromadb.segment.impl.vector.local_hnsw:Add of existing embedding ID: 26\n",
            "WARNING:chromadb.segment.impl.vector.local_hnsw:Add of existing embedding ID: 27\n",
            "WARNING:chromadb.segment.impl.vector.local_hnsw:Add of existing embedding ID: 28\n",
            "WARNING:chromadb.segment.impl.vector.local_hnsw:Add of existing embedding ID: 29\n",
            "WARNING:chromadb.segment.impl.vector.local_hnsw:Add of existing embedding ID: 30\n",
            "WARNING:chromadb.segment.impl.vector.local_hnsw:Add of existing embedding ID: 31\n",
            "WARNING:chromadb.segment.impl.vector.local_hnsw:Add of existing embedding ID: 32\n",
            "WARNING:chromadb.segment.impl.vector.local_hnsw:Add of existing embedding ID: 33\n",
            "WARNING:chromadb.segment.impl.vector.local_hnsw:Add of existing embedding ID: 34\n",
            "WARNING:chromadb.segment.impl.metadata.sqlite:Insert of existing embedding ID: 0\n",
            "WARNING:chromadb.segment.impl.metadata.sqlite:Insert of existing embedding ID: 1\n",
            "WARNING:chromadb.segment.impl.metadata.sqlite:Insert of existing embedding ID: 2\n",
            "WARNING:chromadb.segment.impl.metadata.sqlite:Insert of existing embedding ID: 3\n",
            "WARNING:chromadb.segment.impl.metadata.sqlite:Insert of existing embedding ID: 4\n",
            "WARNING:chromadb.segment.impl.metadata.sqlite:Insert of existing embedding ID: 5\n",
            "WARNING:chromadb.segment.impl.metadata.sqlite:Insert of existing embedding ID: 6\n",
            "WARNING:chromadb.segment.impl.metadata.sqlite:Insert of existing embedding ID: 7\n",
            "WARNING:chromadb.segment.impl.metadata.sqlite:Insert of existing embedding ID: 8\n",
            "WARNING:chromadb.segment.impl.metadata.sqlite:Insert of existing embedding ID: 9\n",
            "WARNING:chromadb.segment.impl.metadata.sqlite:Insert of existing embedding ID: 10\n",
            "WARNING:chromadb.segment.impl.metadata.sqlite:Insert of existing embedding ID: 11\n",
            "WARNING:chromadb.segment.impl.metadata.sqlite:Insert of existing embedding ID: 12\n",
            "WARNING:chromadb.segment.impl.metadata.sqlite:Insert of existing embedding ID: 13\n",
            "WARNING:chromadb.segment.impl.metadata.sqlite:Insert of existing embedding ID: 14\n",
            "WARNING:chromadb.segment.impl.metadata.sqlite:Insert of existing embedding ID: 15\n",
            "WARNING:chromadb.segment.impl.metadata.sqlite:Insert of existing embedding ID: 16\n",
            "WARNING:chromadb.segment.impl.metadata.sqlite:Insert of existing embedding ID: 17\n",
            "WARNING:chromadb.segment.impl.metadata.sqlite:Insert of existing embedding ID: 18\n",
            "WARNING:chromadb.segment.impl.metadata.sqlite:Insert of existing embedding ID: 19\n",
            "WARNING:chromadb.segment.impl.metadata.sqlite:Insert of existing embedding ID: 20\n",
            "WARNING:chromadb.segment.impl.metadata.sqlite:Insert of existing embedding ID: 21\n",
            "WARNING:chromadb.segment.impl.metadata.sqlite:Insert of existing embedding ID: 22\n",
            "WARNING:chromadb.segment.impl.metadata.sqlite:Insert of existing embedding ID: 23\n",
            "WARNING:chromadb.segment.impl.metadata.sqlite:Insert of existing embedding ID: 24\n",
            "WARNING:chromadb.segment.impl.metadata.sqlite:Insert of existing embedding ID: 25\n",
            "WARNING:chromadb.segment.impl.metadata.sqlite:Insert of existing embedding ID: 26\n",
            "WARNING:chromadb.segment.impl.metadata.sqlite:Insert of existing embedding ID: 27\n",
            "WARNING:chromadb.segment.impl.metadata.sqlite:Insert of existing embedding ID: 28\n",
            "WARNING:chromadb.segment.impl.metadata.sqlite:Insert of existing embedding ID: 29\n",
            "WARNING:chromadb.segment.impl.metadata.sqlite:Insert of existing embedding ID: 30\n",
            "WARNING:chromadb.segment.impl.metadata.sqlite:Insert of existing embedding ID: 31\n",
            "WARNING:chromadb.segment.impl.metadata.sqlite:Insert of existing embedding ID: 32\n",
            "WARNING:chromadb.segment.impl.metadata.sqlite:Insert of existing embedding ID: 33\n",
            "WARNING:chromadb.segment.impl.metadata.sqlite:Insert of existing embedding ID: 34\n"
          ]
        }
      ]
    },
    {
      "cell_type": "code",
      "source": [
        "db.count()"
      ],
      "metadata": {
        "colab": {
          "base_uri": "https://localhost:8080/"
        },
        "id": "UEZxjlWc4eBN",
        "outputId": "7b8be3c6-92d6-44e8-a3d9-a9ede3445b46"
      },
      "execution_count": null,
      "outputs": [
        {
          "output_type": "execute_result",
          "data": {
            "text/plain": [
              "214"
            ]
          },
          "metadata": {},
          "execution_count": 84
        }
      ]
    },
    {
      "cell_type": "code",
      "source": [
        "db.peek(1)"
      ],
      "metadata": {
        "colab": {
          "base_uri": "https://localhost:8080/"
        },
        "collapsed": true,
        "id": "xBOyn0iz4nYf",
        "outputId": "c4706c90-d1b7-41b1-99e1-1d9c181094dd"
      },
      "execution_count": null,
      "outputs": [
        {
          "output_type": "execute_result",
          "data": {
            "text/plain": [
              "{'ids': ['0'],\n",
              " 'embeddings': array([[ 1.87941343e-02,  2.12922432e-02, -3.51193212e-02,\n",
              "         -7.21177738e-03,  1.64561477e-02, -2.69960258e-02,\n",
              "         -2.14216970e-02,  4.17354032e-02, -4.84089740e-03,\n",
              "          2.91666240e-02,  4.56957659e-03, -1.21571461e-03,\n",
              "          5.37956655e-02,  6.32065535e-03,  6.03143498e-02,\n",
              "         -6.87590688e-02, -6.10287674e-03,  3.96302231e-02,\n",
              "         -9.05265361e-02, -2.48595085e-02,  3.53463627e-02,\n",
              "          1.97532512e-02,  3.66369151e-02,  4.74498719e-02,\n",
              "         -5.22560952e-03,  6.88785166e-02,  6.09978326e-02,\n",
              "          2.36070212e-02, -5.70264943e-02, -3.34884524e-02,\n",
              "          2.14217976e-02,  7.16584211e-04,  2.88722515e-02,\n",
              "         -1.63756832e-02,  2.17096768e-02,  2.20670737e-02,\n",
              "         -2.65586190e-02,  5.16547337e-02,  4.25024480e-02,\n",
              "         -4.04727757e-02, -4.72782142e-02,  3.67601067e-02,\n",
              "          7.65943378e-02, -1.74722392e-02, -3.19013111e-02,\n",
              "          1.11471536e-02, -3.26592140e-02,  9.23342071e-03,\n",
              "         -4.10440043e-02,  1.79042369e-02,  5.18222451e-02,\n",
              "          4.94896099e-02, -2.39892062e-02,  3.88903022e-02,\n",
              "         -1.63118877e-02,  2.13754270e-02, -2.63379309e-02,\n",
              "         -5.78089617e-03,  9.02609713e-03, -1.67295057e-02,\n",
              "         -1.37030492e-02, -5.27621154e-03, -2.08628345e-02,\n",
              "         -3.07594910e-02,  1.85579360e-02, -8.14784989e-02,\n",
              "          2.88835820e-02, -6.19226582e-02, -1.36996740e-02,\n",
              "          4.86829430e-02,  6.55936031e-03, -1.84991732e-02,\n",
              "         -2.40746085e-02, -3.35852094e-02, -6.35604467e-03,\n",
              "         -2.76591238e-02, -3.41498330e-02, -4.30965722e-02,\n",
              "          1.01429201e-03,  3.18941548e-02,  5.80620579e-03,\n",
              "          4.33326066e-02,  2.85009295e-02,  6.14365749e-02,\n",
              "          1.08023873e-02,  1.98401697e-02,  3.34580056e-02,\n",
              "         -3.79498601e-02,  1.09271482e-02, -2.70342883e-02,\n",
              "          4.61142361e-02,  2.17049140e-02, -1.03622926e-02,\n",
              "         -1.22492583e-02,  5.74326841e-03, -3.88163514e-02,\n",
              "         -1.38390496e-01, -7.27765709e-02,  8.13943520e-02,\n",
              "          4.21725027e-02, -1.48816574e-02, -3.06147225e-02,\n",
              "         -8.75237305e-03, -3.27459686e-02,  4.61793989e-02,\n",
              "          1.86326541e-02,  6.02450557e-02, -2.77996082e-02,\n",
              "         -3.43401246e-02,  3.35315727e-02, -1.29373083e-02,\n",
              "         -2.08783709e-02,  2.04563048e-02,  2.35622581e-02,\n",
              "          4.51132981e-03, -1.55528216e-02,  2.09666640e-02,\n",
              "          1.78204142e-02, -2.41835229e-02,  2.80953366e-02,\n",
              "         -7.84140546e-03,  4.77236360e-02,  1.83329564e-02,\n",
              "          4.07523103e-03, -2.05011684e-02,  2.88438890e-02,\n",
              "         -6.05869165e-04, -6.44334406e-02,  2.11549234e-02,\n",
              "         -3.98299694e-02,  2.29610540e-02, -2.68921126e-02,\n",
              "          1.79921109e-02,  7.23904446e-02,  1.04873711e-02,\n",
              "         -3.11987242e-03,  4.08181921e-02,  9.46909003e-03,\n",
              "         -5.86899696e-03,  4.50094901e-02,  2.92129852e-02,\n",
              "         -5.03503457e-02, -7.53835514e-02,  5.12189157e-02,\n",
              "          1.03192143e-02, -5.32364510e-02,  1.82549860e-02,\n",
              "          3.49125676e-02, -4.12886292e-02, -3.98739427e-02,\n",
              "          1.99185987e-03,  2.52688136e-02,  8.23778138e-02,\n",
              "         -2.28856318e-02,  4.30867113e-02, -5.49526587e-02,\n",
              "          3.88757512e-03, -6.31492510e-02,  6.49493234e-03,\n",
              "          1.34885563e-02,  7.51380250e-02, -1.97508801e-02,\n",
              "         -1.19691063e-02,  2.81579420e-02, -8.83373097e-02,\n",
              "         -2.17680726e-02,  3.02035594e-03, -9.58761871e-02,\n",
              "         -3.53058316e-02, -3.39417830e-02, -8.61473009e-03,\n",
              "         -7.35275894e-02,  2.24325806e-02, -1.75500423e-01,\n",
              "          2.46376190e-02, -3.57869640e-02, -4.21346761e-02,\n",
              "          9.48418397e-03, -2.91863573e-03,  6.56012669e-02,\n",
              "          8.23609754e-02,  1.75555572e-02, -7.50707928e-03,\n",
              "         -6.84358925e-02,  4.64284718e-02, -9.54396091e-03,\n",
              "          7.07754940e-02,  2.40842625e-02,  4.04703952e-02,\n",
              "          7.53061846e-03,  3.26669123e-03, -1.70219187e-02,\n",
              "         -2.50626486e-02,  8.47885236e-02,  6.18752651e-03,\n",
              "          3.99812236e-02,  4.64992551e-03,  3.02529335e-02,\n",
              "         -3.81324217e-02, -2.41052285e-02,  3.64344455e-02,\n",
              "          2.23301481e-02, -1.62860984e-03, -6.56461518e-04,\n",
              "         -1.31575735e-02,  5.24404272e-02, -5.43684512e-02,\n",
              "         -7.48668285e-03,  3.85838076e-02, -3.69107984e-02,\n",
              "          4.81131747e-02,  3.03199887e-02, -2.78005167e-03,\n",
              "         -5.75757176e-02,  2.49546580e-02, -1.13285556e-02,\n",
              "          5.06755263e-02, -1.15015851e-02, -1.18969157e-02,\n",
              "         -3.15197185e-02,  4.84296568e-02,  1.79461204e-02,\n",
              "          5.94092272e-02,  2.67374758e-02,  8.75362009e-03,\n",
              "          1.31839039e-02, -6.81424662e-02,  1.50852287e-02,\n",
              "         -1.42154796e-02, -8.08030441e-02, -2.75367144e-02,\n",
              "         -1.10962773e-02,  4.25618589e-02, -1.77362952e-02,\n",
              "         -6.51663616e-02, -2.82508917e-02,  5.58728985e-02,\n",
              "         -6.22455813e-02, -1.50824878e-02, -6.86799828e-03,\n",
              "         -3.78139131e-02,  4.22915258e-02,  3.37416530e-02,\n",
              "          2.59919595e-02, -2.29141652e-03, -2.24760901e-02,\n",
              "          8.92879218e-02,  4.03326117e-02,  7.90514890e-03,\n",
              "         -2.00495329e-02, -1.51563855e-02, -1.86243765e-02,\n",
              "         -4.36219908e-02,  1.74630806e-03, -8.16079080e-02,\n",
              "         -5.89275472e-02,  3.23677212e-02,  3.13971117e-02,\n",
              "          2.75271051e-02, -4.73103262e-02,  3.86901684e-02,\n",
              "          7.04448996e-03,  1.96568612e-02, -3.29480208e-02,\n",
              "         -4.44609374e-02, -3.43500264e-02, -4.51338775e-02,\n",
              "         -3.54590416e-02,  4.38783094e-02, -5.07800505e-02,\n",
              "          5.20569831e-03, -8.39365348e-02, -2.42262259e-02,\n",
              "         -1.52351465e-02, -8.89801607e-03, -3.76647664e-03,\n",
              "         -1.50693664e-02,  1.87654775e-02,  4.75880085e-03,\n",
              "         -4.46439311e-02,  2.51884237e-02,  4.33369800e-02,\n",
              "         -3.87208490e-03, -1.41514065e-02, -3.91467381e-03,\n",
              "         -1.51620628e-02,  1.69947930e-02,  3.28385755e-02,\n",
              "         -3.62780876e-02, -2.28535477e-02,  4.50935811e-02,\n",
              "          8.72731023e-03,  5.81238158e-02, -7.51286969e-02,\n",
              "          2.97165792e-02,  3.20027210e-02, -1.87769830e-02,\n",
              "         -3.31730349e-03, -8.72681290e-03, -1.82547886e-02,\n",
              "          3.79695371e-02,  3.36993821e-02,  2.03670785e-02,\n",
              "          8.56511295e-03,  2.57989770e-04,  4.05470282e-03,\n",
              "         -1.13780117e-02, -5.25096990e-02, -5.06270006e-02,\n",
              "          1.10313017e-02,  3.87942255e-03,  3.91388275e-02,\n",
              "         -2.95731146e-02, -3.55491936e-02, -2.89585497e-02,\n",
              "         -4.28684102e-03, -1.27518073e-01, -8.38907319e-04,\n",
              "         -1.71922576e-02, -6.63132779e-03,  1.32587068e-02,\n",
              "          4.73381840e-02, -6.39377115e-03,  4.40512924e-03,\n",
              "          2.21200641e-02, -4.51789441e-04, -5.76420221e-03,\n",
              "         -4.66841981e-02,  1.99579224e-02,  1.67315416e-02,\n",
              "          3.32308896e-02,  3.40796225e-02, -1.10698249e-02,\n",
              "          1.04493741e-03,  1.09346639e-02, -3.65191065e-02,\n",
              "         -2.59082317e-02,  1.02629792e-02,  4.10591774e-02,\n",
              "          3.22849452e-02,  1.35298530e-02, -1.70771144e-02,\n",
              "          2.05564648e-02,  1.33853331e-02, -5.59043288e-02,\n",
              "         -7.23991245e-02, -4.61440198e-02, -7.32141593e-03,\n",
              "          8.54553934e-03, -3.05910725e-02, -7.90447742e-03,\n",
              "          2.85131969e-02,  2.06310954e-02, -8.78187791e-02,\n",
              "         -7.01342244e-03,  3.15062962e-02,  3.51492353e-02,\n",
              "         -2.93325316e-02, -4.56785001e-02, -2.34665200e-02,\n",
              "          2.67151161e-04, -1.24935759e-02,  1.85426380e-02,\n",
              "          4.94057350e-02,  1.60782952e-02, -4.52873483e-02,\n",
              "         -1.90615153e-03,  3.83246541e-02, -4.68702009e-03,\n",
              "         -2.70752795e-02, -1.71432104e-02, -2.19690264e-03,\n",
              "          1.35337925e-02, -1.21574048e-02,  1.31939119e-02,\n",
              "          1.87771022e-02, -1.01285772e-02,  1.47805372e-02,\n",
              "         -7.91412126e-03, -8.71706195e-03, -2.71664988e-02,\n",
              "         -3.93077284e-02, -3.18679819e-03, -2.69276369e-02,\n",
              "         -3.46469358e-02,  8.47812667e-02, -4.80631515e-02,\n",
              "         -5.26078939e-02,  1.99854691e-02,  8.79289303e-03,\n",
              "          1.40606463e-02,  2.62641087e-02,  2.64553027e-03,\n",
              "          2.76194178e-02, -9.38553736e-03,  6.10033087e-02,\n",
              "          1.58673304e-03,  4.44205590e-02,  4.82665328e-03,\n",
              "         -3.64164598e-02,  7.60410279e-02, -7.70870149e-02,\n",
              "          9.00802165e-02, -3.06655746e-02,  3.67145129e-02,\n",
              "         -2.49808952e-02,  5.52665889e-02,  1.21065388e-02,\n",
              "          6.50627585e-03,  9.78568941e-03, -2.61650188e-03,\n",
              "          2.94848867e-02, -3.06758452e-02, -3.11673898e-03,\n",
              "         -3.83849144e-02,  1.52979093e-02,  8.99792239e-02,\n",
              "         -1.49607332e-03,  7.77978962e-03,  2.22880803e-02,\n",
              "         -1.18108112e-02,  4.20598760e-02, -2.15985477e-02,\n",
              "          1.67026389e-02,  6.79437479e-04, -7.63155743e-02,\n",
              "          6.22373447e-03, -1.16293039e-03, -3.96263823e-02,\n",
              "          5.43815866e-02,  1.18768616e-02,  6.97714239e-02,\n",
              "         -1.65309645e-02,  2.75632218e-02,  2.86260620e-02,\n",
              "         -1.19437594e-02,  3.40302624e-02, -8.74121021e-03,\n",
              "         -4.80733775e-02,  1.88765321e-02,  2.98890341e-02,\n",
              "         -4.64891791e-02,  4.18381244e-02,  1.36890262e-02,\n",
              "          2.37201364e-03,  8.89890566e-02,  4.73266616e-02,\n",
              "          4.08707261e-02,  9.48289968e-03, -4.86357845e-02,\n",
              "          3.36079411e-02, -6.57329382e-03, -1.17450999e-02,\n",
              "         -2.56751664e-02,  3.34322941e-03,  1.62375346e-02,\n",
              "          1.78078245e-02,  5.65826297e-02, -3.91932093e-02,\n",
              "          5.05834371e-02, -4.98116724e-02, -4.17979471e-02,\n",
              "          5.49202189e-02,  1.04628550e-02, -7.01939128e-03,\n",
              "         -4.52387780e-02, -5.30354232e-02, -2.10587680e-02,\n",
              "         -6.05636947e-02,  7.09949881e-02,  6.46505281e-02,\n",
              "         -2.54992545e-02,  1.20752258e-02,  4.21198495e-02,\n",
              "         -1.10303080e-02, -3.97783853e-02, -5.20813279e-04,\n",
              "          5.34392036e-02, -4.96827438e-03,  5.42877950e-02,\n",
              "         -1.33408112e-02,  3.31020206e-02,  2.68216617e-03,\n",
              "          5.10728806e-02,  3.11897118e-02, -3.31389569e-02,\n",
              "         -3.73241194e-02,  5.53962067e-02,  1.49589609e-02,\n",
              "          2.61038542e-02,  1.82289928e-02,  2.22617928e-02,\n",
              "         -2.28578039e-02, -3.89168039e-02,  2.30806042e-02,\n",
              "         -1.69910360e-02,  4.39676233e-02, -4.62763608e-02,\n",
              "         -3.05040013e-02,  2.32003331e-02,  6.81700632e-02,\n",
              "         -1.81593131e-02, -1.53000820e-02,  1.66722445e-03,\n",
              "          7.66711123e-03,  5.06473742e-02, -4.30614688e-02,\n",
              "         -1.96798798e-02,  7.13454336e-02, -2.13528331e-02,\n",
              "          2.35697217e-02, -9.29969735e-03,  1.66297164e-02,\n",
              "          1.58295166e-02, -1.58825889e-02, -1.13836182e-02,\n",
              "         -5.00590689e-02,  7.62854591e-02, -3.40491235e-02,\n",
              "          7.14393193e-03,  6.67766063e-03,  2.85421703e-02,\n",
              "          1.13701057e-02, -3.29415081e-03, -2.30444968e-02,\n",
              "          1.37248449e-02, -6.88000210e-03,  2.64312197e-02,\n",
              "          8.88138823e-03, -7.15271309e-02, -2.41747480e-02,\n",
              "          5.82741946e-02,  3.52876745e-02,  2.22677477e-02,\n",
              "          2.72434745e-02,  2.46825982e-02,  4.58507426e-02,\n",
              "         -1.54369103e-03,  3.63197476e-02,  1.63530335e-02,\n",
              "          1.46383848e-02, -4.54557128e-02,  8.46845843e-03,\n",
              "          2.04100460e-02,  4.06611711e-02, -4.95411828e-03,\n",
              "         -1.24131050e-02, -6.62835827e-03, -2.39970200e-02,\n",
              "          9.32195485e-02, -3.27464379e-02, -2.42711734e-02,\n",
              "         -6.79346779e-03, -4.80110198e-02, -1.55504290e-02,\n",
              "         -1.84714086e-02,  3.33052166e-02, -5.93063002e-03,\n",
              "          4.73977951e-03, -1.79785155e-02,  2.95347553e-02,\n",
              "         -5.39395250e-02,  1.44851916e-02, -1.33173689e-02,\n",
              "          1.12513611e-02,  2.13419534e-02, -1.41278026e-03,\n",
              "          3.66217121e-02,  2.21712030e-02, -3.35648842e-03,\n",
              "         -7.82917440e-03,  3.87006737e-02, -8.29111785e-03,\n",
              "         -4.10434119e-02,  1.66303534e-02, -3.14299949e-02,\n",
              "         -7.79460073e-02, -1.10755302e-02,  7.11476356e-02,\n",
              "         -6.47102809e-03, -7.22751068e-03,  2.64024809e-02,\n",
              "          4.90296483e-02,  3.82996835e-02,  1.40223205e-02,\n",
              "          2.91226053e-04,  1.25373639e-02,  3.87031510e-02,\n",
              "          3.29767354e-02, -1.49885304e-02,  3.05669345e-02,\n",
              "          4.35675830e-02, -1.13611212e-02, -2.70562265e-02,\n",
              "         -2.86574531e-02,  6.67956192e-03, -4.79845852e-02,\n",
              "         -5.49057731e-03, -3.18035041e-03,  9.94217303e-03,\n",
              "          4.65238839e-03,  1.34097645e-02,  1.43294400e-02,\n",
              "          3.43849622e-02,  1.91107078e-03,  2.46128161e-02,\n",
              "         -3.28533202e-02, -6.25371039e-02, -9.29363538e-03,\n",
              "          2.46696863e-02,  3.05691781e-03,  1.84587501e-02,\n",
              "         -4.38049324e-02,  2.00518593e-02, -4.23312113e-02,\n",
              "          7.73332664e-04,  1.18547480e-03, -1.38007300e-02,\n",
              "          1.54578099e-02, -5.32564300e-04, -2.80128582e-03,\n",
              "          4.05969620e-02,  5.47056571e-02, -7.85737634e-02,\n",
              "         -3.99201587e-02, -7.15792412e-03, -1.42683256e-02,\n",
              "         -3.11689377e-02, -2.03133770e-03,  6.88915774e-02,\n",
              "         -2.05434617e-02,  2.68721879e-02, -3.74031551e-02,\n",
              "         -5.01049533e-02, -7.07633868e-02,  1.22956904e-02,\n",
              "          2.51228493e-02, -3.43124419e-02,  1.11559173e-02,\n",
              "         -3.97447683e-02,  3.89331840e-02,  2.92651225e-02,\n",
              "          5.93002811e-02,  4.36519496e-02, -4.85143252e-02,\n",
              "         -1.61409620e-02,  4.70813699e-02, -1.54003489e-03,\n",
              "         -1.78288657e-03, -3.67611763e-03, -1.76825374e-03,\n",
              "         -3.60849104e-03, -1.99525096e-02,  1.84008963e-02,\n",
              "          2.76004001e-02, -3.27557861e-03, -4.91781756e-02,\n",
              "          6.45284727e-02,  3.48847322e-02, -1.82468165e-02,\n",
              "         -1.84894204e-02,  1.35875698e-02, -1.84498671e-02,\n",
              "          3.29772867e-02, -1.78603362e-02, -3.35630937e-03,\n",
              "         -1.77328512e-02,  5.31450771e-02,  1.37055917e-02,\n",
              "         -2.68476680e-02,  1.72227509e-02,  1.71122774e-02,\n",
              "         -3.32674943e-02, -3.27333175e-02, -2.22328231e-02,\n",
              "          2.15369929e-02,  2.60024611e-02,  4.42361943e-02,\n",
              "          4.07322869e-02,  1.51467603e-03, -2.36747004e-02,\n",
              "         -4.79529612e-03,  2.12652478e-02, -2.33424287e-02,\n",
              "         -1.92956012e-02,  3.31588276e-02,  2.71517169e-02,\n",
              "          3.10215522e-02, -2.00343709e-02,  4.39057276e-02,\n",
              "          7.24273687e-03, -4.12870161e-02,  1.71873183e-03,\n",
              "          1.74466670e-02, -1.54176122e-02,  6.02356344e-02,\n",
              "          1.70533825e-02, -2.02816818e-02, -1.34064313e-02,\n",
              "          1.36998817e-02, -3.18874195e-02, -3.97759713e-02,\n",
              "         -4.93829846e-02, -2.88585220e-02,  3.11035808e-04,\n",
              "          2.24892125e-02,  1.12045147e-02,  2.44238190e-02,\n",
              "         -4.08976153e-02, -4.12429422e-02,  4.58408520e-02,\n",
              "         -6.25049602e-03,  3.25982943e-02,  1.14550889e-02,\n",
              "          6.86750095e-03, -5.02205640e-03,  3.04613300e-02,\n",
              "          1.98501395e-03, -2.50369441e-02,  5.53458929e-03,\n",
              "         -4.23952239e-03, -2.20059580e-03,  4.52320371e-03,\n",
              "          2.45453287e-02,  4.13563885e-02, -3.74431685e-02,\n",
              "         -1.19391069e-01, -8.01785383e-03, -8.85865316e-02,\n",
              "          2.58973856e-02,  1.01620488e-01,  1.17771663e-02,\n",
              "         -3.86271775e-02,  2.57315654e-02,  3.46565130e-03,\n",
              "         -1.22054657e-02, -1.76482759e-02, -1.52054196e-02,\n",
              "         -3.21368836e-02, -9.51566268e-03,  5.07830642e-02,\n",
              "          1.13591924e-03, -4.69770469e-03,  2.71002557e-02,\n",
              "          3.70566510e-02,  3.72042097e-02, -2.31298991e-02,\n",
              "         -3.04565113e-03, -1.90562569e-02,  1.29736673e-05,\n",
              "         -6.80539683e-02,  2.84056850e-02,  3.39463055e-02,\n",
              "          3.17050330e-02, -2.45483909e-02, -4.10438441e-02,\n",
              "         -5.19884750e-02,  8.96149955e-04,  3.67036425e-02,\n",
              "          2.07991078e-02, -3.74638364e-02,  3.57294083e-02,\n",
              "         -3.04702912e-02, -4.36140150e-02, -3.00113726e-02,\n",
              "          2.02984829e-02,  3.00541539e-02, -4.19060141e-02]]),\n",
              " 'documents': ['1\\nPackage leaflet: Information for the user \\n \\nParacetamol 500 mg tablets \\nparacetamol'],\n",
              " 'uris': None,\n",
              " 'data': None,\n",
              " 'metadatas': [None],\n",
              " 'included': [<IncludeEnum.embeddings: 'embeddings'>,\n",
              "  <IncludeEnum.documents: 'documents'>,\n",
              "  <IncludeEnum.metadatas: 'metadatas'>]}"
            ]
          },
          "metadata": {},
          "execution_count": 85
        }
      ]
    },
    {
      "cell_type": "code",
      "source": [
        "# Switch to query mode when generating embeddings.\n",
        "embed_fn.document_mode = False\n",
        "\n",
        "# Search the Chroma DB using the specified query.\n",
        "query = \"What are the contents of Paracetamol?\"\n",
        "\n",
        "result = db.query(query_texts=[query], n_results=1)\n",
        "result"
      ],
      "metadata": {
        "colab": {
          "base_uri": "https://localhost:8080/",
          "height": 205
        },
        "id": "6M8qkMNM4r3E",
        "outputId": "255d72e5-0894-44f8-d6b1-e4b44c957bd7"
      },
      "execution_count": null,
      "outputs": [
        {
          "output_type": "execute_result",
          "data": {
            "text/plain": [
              "{'ids': [['197']],\n",
              " 'embeddings': None,\n",
              " 'documents': [['6. Contents of the pack and other information \\n \\nWhat Paracetamol contains']],\n",
              " 'uris': None,\n",
              " 'data': None,\n",
              " 'metadatas': [[None]],\n",
              " 'distances': [[0.429695188999176]],\n",
              " 'included': [<IncludeEnum.distances: 'distances'>,\n",
              "  <IncludeEnum.documents: 'documents'>,\n",
              "  <IncludeEnum.metadatas: 'metadatas'>]}"
            ]
          },
          "metadata": {},
          "execution_count": 98
        }
      ]
    },
    {
      "cell_type": "code",
      "source": [
        "[[passage]] = result[\"documents\"]\n",
        "Markdown(passage)"
      ],
      "metadata": {
        "colab": {
          "base_uri": "https://localhost:8080/",
          "height": 105
        },
        "id": "fne5fhcq4-os",
        "outputId": "a8d82e78-8c26-4be5-b07d-5411f6522148"
      },
      "execution_count": null,
      "outputs": [
        {
          "output_type": "execute_result",
          "data": {
            "text/plain": [
              "<IPython.core.display.Markdown object>"
            ],
            "text/markdown": "6. Contents of the pack and other information \n \nWhat Paracetamol contains"
          },
          "metadata": {},
          "execution_count": 99
        }
      ]
    },
    {
      "cell_type": "code",
      "source": [
        "passage_oneline = passage.replace(\"\\n\", \" \")\n",
        "query_oneline = query.replace(\"\\n\", \" \")\n",
        "\n",
        "# This prompt is where you can specify any guidance on tone, or what topics the model should stick to, or avoid.\n",
        "prompt = f\"\"\"You are a helpful and informative bot that answers questions using text from the reference passage included below.\n",
        "Be sure to respond in a complete sentence, being comprehensive, including all relevant background information.\n",
        "\n",
        "QUESTION: {query_oneline}\n",
        "PASSAGE: {passage_oneline}\n",
        "\"\"\"\n",
        "print(prompt)"
      ],
      "metadata": {
        "colab": {
          "base_uri": "https://localhost:8080/"
        },
        "id": "iueH-CDG5KAG",
        "outputId": "b89561ad-69e6-4697-dc96-86b7e60c27c6"
      },
      "execution_count": null,
      "outputs": [
        {
          "output_type": "stream",
          "name": "stdout",
          "text": [
            "You are a helpful and informative bot that answers questions using text from the reference passage included below.\n",
            "Be sure to respond in a complete sentence, being comprehensive, including all relevant background information.\n",
            "\n",
            "QUESTION: What are the contents of Paracetamol?\n",
            "PASSAGE: 6. Contents of the pack and other information    What Paracetamol contains\n",
            "\n"
          ]
        }
      ]
    },
    {
      "cell_type": "code",
      "source": [
        "model = genai.GenerativeModel(\"gemini-1.5-flash-latest\")\n",
        "answer = model.generate_content(prompt)\n",
        "Markdown(answer.text)"
      ],
      "metadata": {
        "colab": {
          "base_uri": "https://localhost:8080/",
          "height": 100
        },
        "id": "4jUOxtOJ5Zln",
        "outputId": "0164360c-bccf-497d-be34-266bf00e971e"
      },
      "execution_count": null,
      "outputs": [
        {
          "output_type": "stream",
          "name": "stderr",
          "text": [
            "ERROR:tornado.access:503 POST /v1beta/models/gemini-1.5-flash-latest:generateContent?%24alt=json%3Benum-encoding%3Dint (127.0.0.1) 7940.40ms\n"
          ]
        },
        {
          "output_type": "execute_result",
          "data": {
            "text/plain": [
              "<IPython.core.display.Markdown object>"
            ],
            "text/markdown": "This question cannot be answered from the given text.  The provided text only indicates that there is a section titled \"What Paracetamol contains,\" but it does not actually list the contents of Paracetamol.\n"
          },
          "metadata": {},
          "execution_count": 101
        }
      ]
    }
  ]
}